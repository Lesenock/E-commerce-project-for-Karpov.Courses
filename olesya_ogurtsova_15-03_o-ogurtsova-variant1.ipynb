{
 "cells": [
  {
   "cell_type": "markdown",
   "metadata": {},
   "source": [
    "*Проект e-commerce: вариант 1*\n",
    "\n",
    "Продакт-менеджер Василий попросил вас проанализировать совершенные покупки и ответить на следующие вопросы:\n",
    "\n",
    "1. Сколько у нас пользователей, которые совершили покупку только один раз? (7 баллов) \n",
    "\n",
    "2. Сколько заказов в месяц в среднем не доставляется по разным причинам (вывести детализацию по причинам)? (5 баллов)\n",
    "\n",
    "3. По каждому товару определить, в какой день недели товар чаще всего покупается. (5 баллов)\n",
    "\n",
    "4. Сколько у каждого из пользователей в среднем покупок в неделю (по месяцам)? Не стоит забывать, что внутри месяца может быть не целое количество недель. Например, в ноябре 2021 года 4,28 недели. И внутри метрики это нужно учесть. (8 баллов) \n",
    "\n",
    "5. Используя pandas, проведи когортный анализ пользователей. В период с января по декабрь выяви когорту с самым высоким retention на 3й месяц. Описание подхода можно найти тут. (10 баллов)\n",
    "\n",
    "6. Часто для качественного анализа аудитории использую подходы, основанные на сегментации. Используя python, построй RFM-сегментацию пользователей, чтобы качественно оценить свою аудиторию. В кластеризации можешь выбрать следующие метрики: R - время от последней покупки пользователя до текущей даты, F - суммарное количество покупок у пользователя за всё время, M - сумма покупок за всё время. Подробно опиши, как ты создавал кластеры. Для каждого RFM-сегмента построй границы метрик recency, frequency и monetary для интерпретации этих кластеров. Пример такого описания: RFM-сегмент 132 (recency=1, frequency=3, monetary=2) имеет границы метрик recency от 130 до 500 дней, frequency от 2 до 5 заказов в неделю, monetary от 1780 до 3560 рублей в неделю. Описание подхода можно найти тут. (35 баллов)\n",
    "\n",
    "Для решения задачи проведи предварительное исследование данных и сформулируй, что должно считаться покупкой. Обосновать свой выбор ты можешь с помощью фактов оплат, статусов заказов и других имеющихся данных."
   ]
  },
  {
   "cell_type": "code",
   "execution_count": 1,
   "metadata": {},
   "outputs": [],
   "source": [
    "# Импортируем нужные библиотеки\n",
    "import pandas as pd\n",
    "import datetime as dt\n",
    "import seaborn as sns\n",
    "import matplotlib.pyplot as plt\n",
    "%matplotlib inline\n",
    "import calendar"
   ]
  },
  {
   "cell_type": "code",
   "execution_count": 2,
   "metadata": {},
   "outputs": [],
   "source": [
    "# Откроем файл с данными по клиентам\n",
    "customers = pd.read_csv('olist_customers_dataset.csv')\n",
    "# olist_customers_datase.csv — таблица с уникальными идентификаторами пользователей \n",
    "# customer_id — позаказный идентификатор пользователя\n",
    "# customer_unique_id — уникальный идентификатор пользователя (аналог номера паспорта)\n",
    "# customer_zip_code_prefix — почтовый индекс пользователя\n",
    "# customer_city — город доставки пользователя\n",
    "# customer_state — штат доставки пользователя"
   ]
  },
  {
   "cell_type": "code",
   "execution_count": 3,
   "metadata": {},
   "outputs": [
    {
     "data": {
      "text/html": [
       "<div>\n",
       "<style scoped>\n",
       "    .dataframe tbody tr th:only-of-type {\n",
       "        vertical-align: middle;\n",
       "    }\n",
       "\n",
       "    .dataframe tbody tr th {\n",
       "        vertical-align: top;\n",
       "    }\n",
       "\n",
       "    .dataframe thead th {\n",
       "        text-align: right;\n",
       "    }\n",
       "</style>\n",
       "<table border=\"1\" class=\"dataframe\">\n",
       "  <thead>\n",
       "    <tr style=\"text-align: right;\">\n",
       "      <th></th>\n",
       "      <th>customer_id</th>\n",
       "      <th>customer_unique_id</th>\n",
       "      <th>customer_zip_code_prefix</th>\n",
       "      <th>customer_city</th>\n",
       "      <th>customer_state</th>\n",
       "    </tr>\n",
       "  </thead>\n",
       "  <tbody>\n",
       "    <tr>\n",
       "      <th>0</th>\n",
       "      <td>06b8999e2fba1a1fbc88172c00ba8bc7</td>\n",
       "      <td>861eff4711a542e4b93843c6dd7febb0</td>\n",
       "      <td>14409</td>\n",
       "      <td>franca</td>\n",
       "      <td>SP</td>\n",
       "    </tr>\n",
       "    <tr>\n",
       "      <th>1</th>\n",
       "      <td>18955e83d337fd6b2def6b18a428ac77</td>\n",
       "      <td>290c77bc529b7ac935b93aa66c333dc3</td>\n",
       "      <td>9790</td>\n",
       "      <td>sao bernardo do campo</td>\n",
       "      <td>SP</td>\n",
       "    </tr>\n",
       "    <tr>\n",
       "      <th>2</th>\n",
       "      <td>4e7b3e00288586ebd08712fdd0374a03</td>\n",
       "      <td>060e732b5b29e8181a18229c7b0b2b5e</td>\n",
       "      <td>1151</td>\n",
       "      <td>sao paulo</td>\n",
       "      <td>SP</td>\n",
       "    </tr>\n",
       "    <tr>\n",
       "      <th>3</th>\n",
       "      <td>b2b6027bc5c5109e529d4dc6358b12c3</td>\n",
       "      <td>259dac757896d24d7702b9acbbff3f3c</td>\n",
       "      <td>8775</td>\n",
       "      <td>mogi das cruzes</td>\n",
       "      <td>SP</td>\n",
       "    </tr>\n",
       "    <tr>\n",
       "      <th>4</th>\n",
       "      <td>4f2d8ab171c80ec8364f7c12e35b23ad</td>\n",
       "      <td>345ecd01c38d18a9036ed96c73b8d066</td>\n",
       "      <td>13056</td>\n",
       "      <td>campinas</td>\n",
       "      <td>SP</td>\n",
       "    </tr>\n",
       "  </tbody>\n",
       "</table>\n",
       "</div>"
      ],
      "text/plain": [
       "                        customer_id                customer_unique_id  \\\n",
       "0  06b8999e2fba1a1fbc88172c00ba8bc7  861eff4711a542e4b93843c6dd7febb0   \n",
       "1  18955e83d337fd6b2def6b18a428ac77  290c77bc529b7ac935b93aa66c333dc3   \n",
       "2  4e7b3e00288586ebd08712fdd0374a03  060e732b5b29e8181a18229c7b0b2b5e   \n",
       "3  b2b6027bc5c5109e529d4dc6358b12c3  259dac757896d24d7702b9acbbff3f3c   \n",
       "4  4f2d8ab171c80ec8364f7c12e35b23ad  345ecd01c38d18a9036ed96c73b8d066   \n",
       "\n",
       "   customer_zip_code_prefix          customer_city customer_state  \n",
       "0                     14409                 franca             SP  \n",
       "1                      9790  sao bernardo do campo             SP  \n",
       "2                      1151              sao paulo             SP  \n",
       "3                      8775        mogi das cruzes             SP  \n",
       "4                     13056               campinas             SP  "
      ]
     },
     "execution_count": 3,
     "metadata": {},
     "output_type": "execute_result"
    }
   ],
   "source": [
    "# Посмотрим на содержимое этого датафрейма\n",
    "customers.head()"
   ]
  },
  {
   "cell_type": "code",
   "execution_count": 4,
   "metadata": {},
   "outputs": [
    {
     "data": {
      "text/plain": [
       "(99441, 5)"
      ]
     },
     "execution_count": 4,
     "metadata": {},
     "output_type": "execute_result"
    }
   ],
   "source": [
    "# Посмотрим на размер этого датафрейма - 99441 строк и 5 колонок\n",
    "customers.shape"
   ]
  },
  {
   "cell_type": "code",
   "execution_count": 5,
   "metadata": {},
   "outputs": [
    {
     "data": {
      "text/plain": [
       "customer_id                 object\n",
       "customer_unique_id          object\n",
       "customer_zip_code_prefix     int64\n",
       "customer_city               object\n",
       "customer_state              object\n",
       "dtype: object"
      ]
     },
     "execution_count": 5,
     "metadata": {},
     "output_type": "execute_result"
    }
   ],
   "source": [
    "# Посмотрим на типы данных в этом датафрейме, всё логично и типы менять не нужно\n",
    "customers.dtypes"
   ]
  },
  {
   "cell_type": "code",
   "execution_count": 6,
   "metadata": {},
   "outputs": [
    {
     "data": {
      "text/plain": [
       "customer_id                 99441\n",
       "customer_unique_id          96096\n",
       "customer_zip_code_prefix    14994\n",
       "customer_city                4119\n",
       "customer_state                 27\n",
       "dtype: int64"
      ]
     },
     "execution_count": 6,
     "metadata": {},
     "output_type": "execute_result"
    }
   ],
   "source": [
    "# Посмотрим на количество уникальных значений в каждой колонке, \n",
    "# в customer_id количество совпадает с общим количеством строк, значит задвоений здесь нет\n",
    "# всего уникальных пользователей 96096, а заказов они создали 99441, на 3345 больше\n",
    "customers.nunique()"
   ]
  },
  {
   "cell_type": "code",
   "execution_count": 7,
   "metadata": {},
   "outputs": [],
   "source": [
    "# Откроем файл с данными по заказам\n",
    "orders = pd.read_csv('olist_orders_dataset.csv')\n",
    "# olist_orders_dataset.csv —  таблица заказов\n",
    "# order_id —  уникальный идентификатор заказа (номер чека)\n",
    "# customer_id —  позаказный идентификатор пользователя\n",
    "# order_status —  статус заказа\n",
    "# order_purchase_timestamp —  время создания заказа\n",
    "# order_approved_at —  время подтверждения оплаты заказа\n",
    "# order_delivered_carrier_date —  время передачи заказа в логистическую службу\n",
    "# order_delivered_customer_date —  время доставки заказа\n",
    "# order_estimated_delivery_date —  обещанная дата доставки"
   ]
  },
  {
   "cell_type": "code",
   "execution_count": 8,
   "metadata": {
    "scrolled": true
   },
   "outputs": [
    {
     "data": {
      "text/html": [
       "<div>\n",
       "<style scoped>\n",
       "    .dataframe tbody tr th:only-of-type {\n",
       "        vertical-align: middle;\n",
       "    }\n",
       "\n",
       "    .dataframe tbody tr th {\n",
       "        vertical-align: top;\n",
       "    }\n",
       "\n",
       "    .dataframe thead th {\n",
       "        text-align: right;\n",
       "    }\n",
       "</style>\n",
       "<table border=\"1\" class=\"dataframe\">\n",
       "  <thead>\n",
       "    <tr style=\"text-align: right;\">\n",
       "      <th></th>\n",
       "      <th>order_id</th>\n",
       "      <th>customer_id</th>\n",
       "      <th>order_status</th>\n",
       "      <th>order_purchase_timestamp</th>\n",
       "      <th>order_approved_at</th>\n",
       "      <th>order_delivered_carrier_date</th>\n",
       "      <th>order_delivered_customer_date</th>\n",
       "      <th>order_estimated_delivery_date</th>\n",
       "    </tr>\n",
       "  </thead>\n",
       "  <tbody>\n",
       "    <tr>\n",
       "      <th>0</th>\n",
       "      <td>e481f51cbdc54678b7cc49136f2d6af7</td>\n",
       "      <td>9ef432eb6251297304e76186b10a928d</td>\n",
       "      <td>delivered</td>\n",
       "      <td>2017-10-02 10:56:33</td>\n",
       "      <td>2017-10-02 11:07:15</td>\n",
       "      <td>2017-10-04 19:55:00</td>\n",
       "      <td>2017-10-10 21:25:13</td>\n",
       "      <td>2017-10-18 00:00:00</td>\n",
       "    </tr>\n",
       "    <tr>\n",
       "      <th>1</th>\n",
       "      <td>53cdb2fc8bc7dce0b6741e2150273451</td>\n",
       "      <td>b0830fb4747a6c6d20dea0b8c802d7ef</td>\n",
       "      <td>delivered</td>\n",
       "      <td>2018-07-24 20:41:37</td>\n",
       "      <td>2018-07-26 03:24:27</td>\n",
       "      <td>2018-07-26 14:31:00</td>\n",
       "      <td>2018-08-07 15:27:45</td>\n",
       "      <td>2018-08-13 00:00:00</td>\n",
       "    </tr>\n",
       "    <tr>\n",
       "      <th>2</th>\n",
       "      <td>47770eb9100c2d0c44946d9cf07ec65d</td>\n",
       "      <td>41ce2a54c0b03bf3443c3d931a367089</td>\n",
       "      <td>delivered</td>\n",
       "      <td>2018-08-08 08:38:49</td>\n",
       "      <td>2018-08-08 08:55:23</td>\n",
       "      <td>2018-08-08 13:50:00</td>\n",
       "      <td>2018-08-17 18:06:29</td>\n",
       "      <td>2018-09-04 00:00:00</td>\n",
       "    </tr>\n",
       "    <tr>\n",
       "      <th>3</th>\n",
       "      <td>949d5b44dbf5de918fe9c16f97b45f8a</td>\n",
       "      <td>f88197465ea7920adcdbec7375364d82</td>\n",
       "      <td>delivered</td>\n",
       "      <td>2017-11-18 19:28:06</td>\n",
       "      <td>2017-11-18 19:45:59</td>\n",
       "      <td>2017-11-22 13:39:59</td>\n",
       "      <td>2017-12-02 00:28:42</td>\n",
       "      <td>2017-12-15 00:00:00</td>\n",
       "    </tr>\n",
       "    <tr>\n",
       "      <th>4</th>\n",
       "      <td>ad21c59c0840e6cb83a9ceb5573f8159</td>\n",
       "      <td>8ab97904e6daea8866dbdbc4fb7aad2c</td>\n",
       "      <td>delivered</td>\n",
       "      <td>2018-02-13 21:18:39</td>\n",
       "      <td>2018-02-13 22:20:29</td>\n",
       "      <td>2018-02-14 19:46:34</td>\n",
       "      <td>2018-02-16 18:17:02</td>\n",
       "      <td>2018-02-26 00:00:00</td>\n",
       "    </tr>\n",
       "  </tbody>\n",
       "</table>\n",
       "</div>"
      ],
      "text/plain": [
       "                           order_id                       customer_id  \\\n",
       "0  e481f51cbdc54678b7cc49136f2d6af7  9ef432eb6251297304e76186b10a928d   \n",
       "1  53cdb2fc8bc7dce0b6741e2150273451  b0830fb4747a6c6d20dea0b8c802d7ef   \n",
       "2  47770eb9100c2d0c44946d9cf07ec65d  41ce2a54c0b03bf3443c3d931a367089   \n",
       "3  949d5b44dbf5de918fe9c16f97b45f8a  f88197465ea7920adcdbec7375364d82   \n",
       "4  ad21c59c0840e6cb83a9ceb5573f8159  8ab97904e6daea8866dbdbc4fb7aad2c   \n",
       "\n",
       "  order_status order_purchase_timestamp    order_approved_at  \\\n",
       "0    delivered      2017-10-02 10:56:33  2017-10-02 11:07:15   \n",
       "1    delivered      2018-07-24 20:41:37  2018-07-26 03:24:27   \n",
       "2    delivered      2018-08-08 08:38:49  2018-08-08 08:55:23   \n",
       "3    delivered      2017-11-18 19:28:06  2017-11-18 19:45:59   \n",
       "4    delivered      2018-02-13 21:18:39  2018-02-13 22:20:29   \n",
       "\n",
       "  order_delivered_carrier_date order_delivered_customer_date  \\\n",
       "0          2017-10-04 19:55:00           2017-10-10 21:25:13   \n",
       "1          2018-07-26 14:31:00           2018-08-07 15:27:45   \n",
       "2          2018-08-08 13:50:00           2018-08-17 18:06:29   \n",
       "3          2017-11-22 13:39:59           2017-12-02 00:28:42   \n",
       "4          2018-02-14 19:46:34           2018-02-16 18:17:02   \n",
       "\n",
       "  order_estimated_delivery_date  \n",
       "0           2017-10-18 00:00:00  \n",
       "1           2018-08-13 00:00:00  \n",
       "2           2018-09-04 00:00:00  \n",
       "3           2017-12-15 00:00:00  \n",
       "4           2018-02-26 00:00:00  "
      ]
     },
     "execution_count": 8,
     "metadata": {},
     "output_type": "execute_result"
    }
   ],
   "source": [
    "# Посмотрим на содержимое этого датафрейма\n",
    "orders.head()"
   ]
  },
  {
   "cell_type": "code",
   "execution_count": 9,
   "metadata": {},
   "outputs": [
    {
     "data": {
      "text/plain": [
       "(99441, 8)"
      ]
     },
     "execution_count": 9,
     "metadata": {},
     "output_type": "execute_result"
    }
   ],
   "source": [
    "# Посмотрим на размер этого датафрейма - 99441 строк и 8 колонок, количество строк совпадает с числом строк в датафрейме про клиентов\n",
    "orders.shape"
   ]
  },
  {
   "cell_type": "code",
   "execution_count": 10,
   "metadata": {
    "scrolled": true
   },
   "outputs": [
    {
     "data": {
      "text/plain": [
       "order_id                         object\n",
       "customer_id                      object\n",
       "order_status                     object\n",
       "order_purchase_timestamp         object\n",
       "order_approved_at                object\n",
       "order_delivered_carrier_date     object\n",
       "order_delivered_customer_date    object\n",
       "order_estimated_delivery_date    object\n",
       "dtype: object"
      ]
     },
     "execution_count": 10,
     "metadata": {},
     "output_type": "execute_result"
    }
   ],
   "source": [
    "# Посмотрим на типы данных в этом датафрейме, здесь даты нужно привести к типу datetime\n",
    "orders.dtypes"
   ]
  },
  {
   "cell_type": "code",
   "execution_count": 11,
   "metadata": {},
   "outputs": [
    {
     "data": {
      "text/plain": [
       "order_id                                 object\n",
       "customer_id                              object\n",
       "order_status                             object\n",
       "order_purchase_timestamp         datetime64[ns]\n",
       "order_approved_at                datetime64[ns]\n",
       "order_delivered_carrier_date     datetime64[ns]\n",
       "order_delivered_customer_date    datetime64[ns]\n",
       "order_estimated_delivery_date    datetime64[ns]\n",
       "dtype: object"
      ]
     },
     "execution_count": 11,
     "metadata": {},
     "output_type": "execute_result"
    }
   ],
   "source": [
    "# Переведем колонки с датами в формат datetime\n",
    "orders['order_purchase_timestamp'] = pd.to_datetime(orders.order_purchase_timestamp)\n",
    "orders['order_approved_at'] = pd.to_datetime(orders.order_approved_at)\n",
    "orders['order_delivered_carrier_date'] = pd.to_datetime(orders.order_delivered_carrier_date)\n",
    "orders['order_delivered_customer_date'] = pd.to_datetime(orders.order_delivered_customer_date)\n",
    "orders['order_estimated_delivery_date'] = pd.to_datetime(orders.order_estimated_delivery_date)\n",
    "orders.dtypes"
   ]
  },
  {
   "cell_type": "code",
   "execution_count": 12,
   "metadata": {
    "scrolled": true
   },
   "outputs": [
    {
     "data": {
      "text/plain": [
       "order_id                         99441\n",
       "customer_id                      99441\n",
       "order_status                         8\n",
       "order_purchase_timestamp         98875\n",
       "order_approved_at                90733\n",
       "order_delivered_carrier_date     81018\n",
       "order_delivered_customer_date    95664\n",
       "order_estimated_delivery_date      459\n",
       "dtype: int64"
      ]
     },
     "execution_count": 12,
     "metadata": {},
     "output_type": "execute_result"
    }
   ],
   "source": [
    "# Посмотрим на количество уникальных значений в каждой колонке, \n",
    "# в order_id и customer_id количество совпадает с общим количеством строк, значит задвоений здесь нет\n",
    "# количество уникальных customer_id совпадает с количеством уникальных customer_id из датафрейма клиентов, значит они скорее всего совпадают\n",
    "orders.nunique()"
   ]
  },
  {
   "cell_type": "code",
   "execution_count": 13,
   "metadata": {
    "scrolled": true
   },
   "outputs": [
    {
     "data": {
      "text/plain": [
       "order_id                         00010242fe8c5a6d1ba2dd792cb16214\n",
       "customer_id                      00012a2ce6f8dcda20d059ce98491703\n",
       "order_status                                             approved\n",
       "order_purchase_timestamp                      2016-09-04 21:15:19\n",
       "order_approved_at                             2016-09-15 12:16:38\n",
       "order_delivered_carrier_date                  2016-10-08 10:34:01\n",
       "order_delivered_customer_date                 2016-10-11 13:46:32\n",
       "order_estimated_delivery_date                 2016-09-30 00:00:00\n",
       "dtype: object"
      ]
     },
     "execution_count": 13,
     "metadata": {},
     "output_type": "execute_result"
    }
   ],
   "source": [
    "# Посмотрим на минимальные даты, имеющиеся в датафрейме - сентябрь 2016\n",
    "orders.min()"
   ]
  },
  {
   "cell_type": "code",
   "execution_count": 14,
   "metadata": {},
   "outputs": [
    {
     "data": {
      "text/plain": [
       "order_id                         fffe41c64501cc87c801fd61db3f6244\n",
       "customer_id                      ffffe8b65bbe3087b653a978c870db99\n",
       "order_status                                          unavailable\n",
       "order_purchase_timestamp                      2018-10-17 17:30:18\n",
       "order_approved_at                             2018-09-03 17:40:06\n",
       "order_delivered_carrier_date                  2018-09-11 19:48:28\n",
       "order_delivered_customer_date                 2018-10-17 13:22:46\n",
       "order_estimated_delivery_date                 2018-11-12 00:00:00\n",
       "dtype: object"
      ]
     },
     "execution_count": 14,
     "metadata": {},
     "output_type": "execute_result"
    }
   ],
   "source": [
    "# Посмотрим на максимальные даты, имеющиеся в датафрейме - ноябрь 2018\n",
    "orders.max()"
   ]
  },
  {
   "cell_type": "code",
   "execution_count": 15,
   "metadata": {},
   "outputs": [
    {
     "data": {
      "text/plain": [
       "delivered      96478\n",
       "shipped         1107\n",
       "canceled         625\n",
       "unavailable      609\n",
       "invoiced         314\n",
       "processing       301\n",
       "created            5\n",
       "approved           2\n",
       "Name: order_status, dtype: int64"
      ]
     },
     "execution_count": 15,
     "metadata": {},
     "output_type": "execute_result"
    }
   ],
   "source": [
    "# Посмотрим на распределение заказов по статусам, самый массовый статус - delivered\n",
    "orders.order_status.value_counts()\n",
    "# Уникальные статусы заказов в таблице olist_orders_dataset:\n",
    "# created —  создан\n",
    "# approved —  подтверждён\n",
    "# invoiced —  выставлен счёт\n",
    "# processing —  в процессе сборки заказа\n",
    "# shipped —  отгружен со склада\n",
    "# delivered —  доставлен пользователю\n",
    "# unavailable —  недоступен\n",
    "# canceled —  отменён"
   ]
  },
  {
   "cell_type": "markdown",
   "metadata": {},
   "source": [
    "*1. Сколько у нас пользователей, которые совершили покупку только один раз?*"
   ]
  },
  {
   "cell_type": "code",
   "execution_count": 16,
   "metadata": {},
   "outputs": [
    {
     "data": {
      "text/plain": [
       "98188"
      ]
     },
     "execution_count": 16,
     "metadata": {},
     "output_type": "execute_result"
    }
   ],
   "source": [
    "# Чтобы определить, что можно считать покупкой, посмотрим на: \n",
    "# 1) наличие значения в колонке order_approved_at —  время подтверждения оплаты заказа \n",
    "# 2) статус заказа: \n",
    "#     доставлен, отгружен со склада, выставлен счёт, в процессе сборки заказа, подтверждён \n",
    "#     - даже если клиент ещё не получил заказ, он уже его сделал и оплатил - значит покупка совершена.\n",
    "orders\\\n",
    "    .query('order_approved_at.isna() == False and order_status in (\"delivered\", \"shipped\", \"invoiced\", \"processing\", \"approved\")')\\\n",
    "    .shape[0]"
   ]
  },
  {
   "cell_type": "markdown",
   "metadata": {},
   "source": [
    "Всего клиенты совершили 98188 покупок (количество товаров в одной покупке может быть больше 1)"
   ]
  },
  {
   "cell_type": "code",
   "execution_count": 17,
   "metadata": {},
   "outputs": [],
   "source": [
    "# Сохраним фильтр для определения покупок в переменную purchases\n",
    "purchases = 'order_approved_at.isna() == False and order_status in (\"delivered\", \"shipped\", \"invoiced\", \"processing\", \"approved\")'"
   ]
  },
  {
   "cell_type": "code",
   "execution_count": 18,
   "metadata": {},
   "outputs": [],
   "source": [
    "# Объединим 2 датафрейма\n",
    "orders_customers = orders.merge(customers, how = 'inner', on = 'customer_id')"
   ]
  },
  {
   "cell_type": "code",
   "execution_count": 19,
   "metadata": {},
   "outputs": [
    {
     "data": {
      "text/html": [
       "<div>\n",
       "<style scoped>\n",
       "    .dataframe tbody tr th:only-of-type {\n",
       "        vertical-align: middle;\n",
       "    }\n",
       "\n",
       "    .dataframe tbody tr th {\n",
       "        vertical-align: top;\n",
       "    }\n",
       "\n",
       "    .dataframe thead th {\n",
       "        text-align: right;\n",
       "    }\n",
       "</style>\n",
       "<table border=\"1\" class=\"dataframe\">\n",
       "  <thead>\n",
       "    <tr style=\"text-align: right;\">\n",
       "      <th></th>\n",
       "      <th>order_id</th>\n",
       "      <th>customer_id</th>\n",
       "      <th>order_status</th>\n",
       "      <th>order_purchase_timestamp</th>\n",
       "      <th>order_approved_at</th>\n",
       "      <th>order_delivered_carrier_date</th>\n",
       "      <th>order_delivered_customer_date</th>\n",
       "      <th>order_estimated_delivery_date</th>\n",
       "      <th>customer_unique_id</th>\n",
       "      <th>customer_zip_code_prefix</th>\n",
       "      <th>customer_city</th>\n",
       "      <th>customer_state</th>\n",
       "    </tr>\n",
       "  </thead>\n",
       "  <tbody>\n",
       "    <tr>\n",
       "      <th>0</th>\n",
       "      <td>e481f51cbdc54678b7cc49136f2d6af7</td>\n",
       "      <td>9ef432eb6251297304e76186b10a928d</td>\n",
       "      <td>delivered</td>\n",
       "      <td>2017-10-02 10:56:33</td>\n",
       "      <td>2017-10-02 11:07:15</td>\n",
       "      <td>2017-10-04 19:55:00</td>\n",
       "      <td>2017-10-10 21:25:13</td>\n",
       "      <td>2017-10-18</td>\n",
       "      <td>7c396fd4830fd04220f754e42b4e5bff</td>\n",
       "      <td>3149</td>\n",
       "      <td>sao paulo</td>\n",
       "      <td>SP</td>\n",
       "    </tr>\n",
       "    <tr>\n",
       "      <th>1</th>\n",
       "      <td>53cdb2fc8bc7dce0b6741e2150273451</td>\n",
       "      <td>b0830fb4747a6c6d20dea0b8c802d7ef</td>\n",
       "      <td>delivered</td>\n",
       "      <td>2018-07-24 20:41:37</td>\n",
       "      <td>2018-07-26 03:24:27</td>\n",
       "      <td>2018-07-26 14:31:00</td>\n",
       "      <td>2018-08-07 15:27:45</td>\n",
       "      <td>2018-08-13</td>\n",
       "      <td>af07308b275d755c9edb36a90c618231</td>\n",
       "      <td>47813</td>\n",
       "      <td>barreiras</td>\n",
       "      <td>BA</td>\n",
       "    </tr>\n",
       "    <tr>\n",
       "      <th>2</th>\n",
       "      <td>47770eb9100c2d0c44946d9cf07ec65d</td>\n",
       "      <td>41ce2a54c0b03bf3443c3d931a367089</td>\n",
       "      <td>delivered</td>\n",
       "      <td>2018-08-08 08:38:49</td>\n",
       "      <td>2018-08-08 08:55:23</td>\n",
       "      <td>2018-08-08 13:50:00</td>\n",
       "      <td>2018-08-17 18:06:29</td>\n",
       "      <td>2018-09-04</td>\n",
       "      <td>3a653a41f6f9fc3d2a113cf8398680e8</td>\n",
       "      <td>75265</td>\n",
       "      <td>vianopolis</td>\n",
       "      <td>GO</td>\n",
       "    </tr>\n",
       "    <tr>\n",
       "      <th>3</th>\n",
       "      <td>949d5b44dbf5de918fe9c16f97b45f8a</td>\n",
       "      <td>f88197465ea7920adcdbec7375364d82</td>\n",
       "      <td>delivered</td>\n",
       "      <td>2017-11-18 19:28:06</td>\n",
       "      <td>2017-11-18 19:45:59</td>\n",
       "      <td>2017-11-22 13:39:59</td>\n",
       "      <td>2017-12-02 00:28:42</td>\n",
       "      <td>2017-12-15</td>\n",
       "      <td>7c142cf63193a1473d2e66489a9ae977</td>\n",
       "      <td>59296</td>\n",
       "      <td>sao goncalo do amarante</td>\n",
       "      <td>RN</td>\n",
       "    </tr>\n",
       "    <tr>\n",
       "      <th>4</th>\n",
       "      <td>ad21c59c0840e6cb83a9ceb5573f8159</td>\n",
       "      <td>8ab97904e6daea8866dbdbc4fb7aad2c</td>\n",
       "      <td>delivered</td>\n",
       "      <td>2018-02-13 21:18:39</td>\n",
       "      <td>2018-02-13 22:20:29</td>\n",
       "      <td>2018-02-14 19:46:34</td>\n",
       "      <td>2018-02-16 18:17:02</td>\n",
       "      <td>2018-02-26</td>\n",
       "      <td>72632f0f9dd73dfee390c9b22eb56dd6</td>\n",
       "      <td>9195</td>\n",
       "      <td>santo andre</td>\n",
       "      <td>SP</td>\n",
       "    </tr>\n",
       "  </tbody>\n",
       "</table>\n",
       "</div>"
      ],
      "text/plain": [
       "                           order_id                       customer_id  \\\n",
       "0  e481f51cbdc54678b7cc49136f2d6af7  9ef432eb6251297304e76186b10a928d   \n",
       "1  53cdb2fc8bc7dce0b6741e2150273451  b0830fb4747a6c6d20dea0b8c802d7ef   \n",
       "2  47770eb9100c2d0c44946d9cf07ec65d  41ce2a54c0b03bf3443c3d931a367089   \n",
       "3  949d5b44dbf5de918fe9c16f97b45f8a  f88197465ea7920adcdbec7375364d82   \n",
       "4  ad21c59c0840e6cb83a9ceb5573f8159  8ab97904e6daea8866dbdbc4fb7aad2c   \n",
       "\n",
       "  order_status order_purchase_timestamp   order_approved_at  \\\n",
       "0    delivered      2017-10-02 10:56:33 2017-10-02 11:07:15   \n",
       "1    delivered      2018-07-24 20:41:37 2018-07-26 03:24:27   \n",
       "2    delivered      2018-08-08 08:38:49 2018-08-08 08:55:23   \n",
       "3    delivered      2017-11-18 19:28:06 2017-11-18 19:45:59   \n",
       "4    delivered      2018-02-13 21:18:39 2018-02-13 22:20:29   \n",
       "\n",
       "  order_delivered_carrier_date order_delivered_customer_date  \\\n",
       "0          2017-10-04 19:55:00           2017-10-10 21:25:13   \n",
       "1          2018-07-26 14:31:00           2018-08-07 15:27:45   \n",
       "2          2018-08-08 13:50:00           2018-08-17 18:06:29   \n",
       "3          2017-11-22 13:39:59           2017-12-02 00:28:42   \n",
       "4          2018-02-14 19:46:34           2018-02-16 18:17:02   \n",
       "\n",
       "  order_estimated_delivery_date                customer_unique_id  \\\n",
       "0                    2017-10-18  7c396fd4830fd04220f754e42b4e5bff   \n",
       "1                    2018-08-13  af07308b275d755c9edb36a90c618231   \n",
       "2                    2018-09-04  3a653a41f6f9fc3d2a113cf8398680e8   \n",
       "3                    2017-12-15  7c142cf63193a1473d2e66489a9ae977   \n",
       "4                    2018-02-26  72632f0f9dd73dfee390c9b22eb56dd6   \n",
       "\n",
       "   customer_zip_code_prefix            customer_city customer_state  \n",
       "0                      3149                sao paulo             SP  \n",
       "1                     47813                barreiras             BA  \n",
       "2                     75265               vianopolis             GO  \n",
       "3                     59296  sao goncalo do amarante             RN  \n",
       "4                      9195              santo andre             SP  "
      ]
     },
     "execution_count": 19,
     "metadata": {},
     "output_type": "execute_result"
    }
   ],
   "source": [
    "# Посмотрим на получившийся датафрейм orders_customers\n",
    "orders_customers.head()"
   ]
  },
  {
   "cell_type": "code",
   "execution_count": 20,
   "metadata": {},
   "outputs": [
    {
     "data": {
      "text/plain": [
       "92087"
      ]
     },
     "execution_count": 20,
     "metadata": {},
     "output_type": "execute_result"
    }
   ],
   "source": [
    "# Посмотрим, сколько пользователей совершили покупку только один раз\n",
    "orders_customers\\\n",
    "    .query(purchases)\\\n",
    "    .customer_unique_id\\\n",
    "    .value_counts()\\\n",
    "    .to_frame()\\\n",
    "    .reset_index()\\\n",
    "    .query('customer_unique_id == 1')\\\n",
    "    .shape[0]"
   ]
  },
  {
   "cell_type": "markdown",
   "metadata": {},
   "source": [
    "*Ответ: 92087 пользователей совершили покупку только один раз*"
   ]
  },
  {
   "cell_type": "markdown",
   "metadata": {},
   "source": [
    "*2. Сколько заказов в месяц в среднем не доставляется по разным причинам (вывести детализацию по причинам)?*"
   ]
  },
  {
   "cell_type": "code",
   "execution_count": 21,
   "metadata": {},
   "outputs": [
    {
     "data": {
      "text/plain": [
       "2636"
      ]
     },
     "execution_count": 21,
     "metadata": {},
     "output_type": "execute_result"
    }
   ],
   "source": [
    "# Недоставленными будем считать заказы, которые должны были быть доставлены, но у которых:\n",
    "# 1) нет значения в колонке время доставки заказа - order_delivered_customer_date\n",
    "# 2) статус заказа : # processing —  в процессе сборки заказа\n",
    "#     shipped —  отгружен со склада\n",
    "#     unavailable —  недоступен\n",
    "#     canceled —  отменён\n",
    "orders_customers\\\n",
    "    .query('order_delivered_customer_date.isna() and order_status in (\"shipped\", \"unavailable\", \"processing\", \"canceled\")')\\\n",
    "    .shape[0]"
   ]
  },
  {
   "cell_type": "markdown",
   "metadata": {},
   "source": [
    "Всего не доставлено 2636 заказов"
   ]
  },
  {
   "cell_type": "code",
   "execution_count": 22,
   "metadata": {},
   "outputs": [],
   "source": [
    "# Сохраним фильтр для недоставленных заказов в переменную undelivered\n",
    "undelivered = 'order_delivered_customer_date.isna() and order_status in (\"shipped\", \"unavailable\", \"processing\", \"canceled\")'"
   ]
  },
  {
   "cell_type": "code",
   "execution_count": 23,
   "metadata": {},
   "outputs": [
    {
     "data": {
      "text/plain": [
       "98.0"
      ]
     },
     "execution_count": 23,
     "metadata": {},
     "output_type": "execute_result"
    }
   ],
   "source": [
    "# Посчитаем, сколько заказов в среднем не доставляется в месяц\n",
    "orders_customers\\\n",
    "    .query(undelivered)\\\n",
    "    .resample('M', on='order_estimated_delivery_date')\\\n",
    "    .count()\\\n",
    "    .order_id\\\n",
    "    .mean()\\\n",
    "    .round()"
   ]
  },
  {
   "cell_type": "markdown",
   "metadata": {},
   "source": [
    "*Ответ: В среднем не доставляется 98 заказов в месяц*"
   ]
  },
  {
   "cell_type": "code",
   "execution_count": 24,
   "metadata": {},
   "outputs": [
    {
     "data": {
      "text/plain": [
       "shipped        1107\n",
       "canceled        619\n",
       "unavailable     609\n",
       "processing      301\n",
       "Name: order_status, dtype: int64"
      ]
     },
     "execution_count": 24,
     "metadata": {},
     "output_type": "execute_result"
    }
   ],
   "source": [
    "# Посмотрим на статусы недоставленных заказов, чтобы определить причину\n",
    "orders_customers.query(undelivered)\\\n",
    "    .order_status\\\n",
    "    .value_counts()\n",
    "# processing —  в процессе сборки заказа\n",
    "# shipped —  отгружен со склада\n",
    "# unavailable —  недоступен\n",
    "# canceled —  отменён"
   ]
  },
  {
   "cell_type": "markdown",
   "metadata": {},
   "source": [
    "*Ответ:*\n",
    "\n",
    "Больше всего - 1107 заказов - было отгружено со склада, но недоставлено - значит нужно поработать со службой доставки (возможно они были доставлены, но информация не пришла; или служба доставки \"потеряла\" эти заказы и нужно о них напомнить);\n",
    "\n",
    "619 заказов было отменено (из данных не ясно - пользователями или системой, соответственно не ясно, куда копать дальше);\n",
    "\n",
    "609 заказов имеет статус \"недоступно\", что видимо значит отсутствие товаров (стоит поработать с поставщиками, чтобы такого случалось как можно меньше);\n",
    "\n",
    "301 заказ остановился на процессе сборки заказов (если бы мы смотрели на данные в реальном времени, возможно это было бы нормальным показателем, но так как мы анализируем прошлое время, то видимо эти заказы так и не были собраны - нужно с соответствующей службой разбираться, почему);"
   ]
  },
  {
   "cell_type": "markdown",
   "metadata": {},
   "source": [
    "*3. По каждому товару определить, в какой день недели товар чаще всего покупается.*"
   ]
  },
  {
   "cell_type": "code",
   "execution_count": 25,
   "metadata": {},
   "outputs": [],
   "source": [
    "# Откроем файл с данными по товарам\n",
    "items = pd.read_csv('olist_order_items_dataset.csv')\n",
    "# olist_order_items_dataset.csv —  товарные позиции, входящие в заказы\n",
    "# order_id —  уникальный идентификатор заказа (номер чека)\n",
    "# order_item_id —  идентификатор товара внутри одного заказа\n",
    "# product_id —  ид товара (аналог штрихкода)\n",
    "# seller_id — ид производителя товара\n",
    "# shipping_limit_date —  максимальная дата доставки продавцом для передачи заказа партнеру по логистике\n",
    "# price —  цена за единицу товара\n",
    "# freight_value —  вес товара"
   ]
  },
  {
   "cell_type": "code",
   "execution_count": 26,
   "metadata": {},
   "outputs": [
    {
     "data": {
      "text/html": [
       "<div>\n",
       "<style scoped>\n",
       "    .dataframe tbody tr th:only-of-type {\n",
       "        vertical-align: middle;\n",
       "    }\n",
       "\n",
       "    .dataframe tbody tr th {\n",
       "        vertical-align: top;\n",
       "    }\n",
       "\n",
       "    .dataframe thead th {\n",
       "        text-align: right;\n",
       "    }\n",
       "</style>\n",
       "<table border=\"1\" class=\"dataframe\">\n",
       "  <thead>\n",
       "    <tr style=\"text-align: right;\">\n",
       "      <th></th>\n",
       "      <th>order_id</th>\n",
       "      <th>order_item_id</th>\n",
       "      <th>product_id</th>\n",
       "      <th>seller_id</th>\n",
       "      <th>shipping_limit_date</th>\n",
       "      <th>price</th>\n",
       "      <th>freight_value</th>\n",
       "    </tr>\n",
       "  </thead>\n",
       "  <tbody>\n",
       "    <tr>\n",
       "      <th>0</th>\n",
       "      <td>00010242fe8c5a6d1ba2dd792cb16214</td>\n",
       "      <td>1</td>\n",
       "      <td>4244733e06e7ecb4970a6e2683c13e61</td>\n",
       "      <td>48436dade18ac8b2bce089ec2a041202</td>\n",
       "      <td>2017-09-19 09:45:35</td>\n",
       "      <td>58.90</td>\n",
       "      <td>13.29</td>\n",
       "    </tr>\n",
       "    <tr>\n",
       "      <th>1</th>\n",
       "      <td>00018f77f2f0320c557190d7a144bdd3</td>\n",
       "      <td>1</td>\n",
       "      <td>e5f2d52b802189ee658865ca93d83a8f</td>\n",
       "      <td>dd7ddc04e1b6c2c614352b383efe2d36</td>\n",
       "      <td>2017-05-03 11:05:13</td>\n",
       "      <td>239.90</td>\n",
       "      <td>19.93</td>\n",
       "    </tr>\n",
       "    <tr>\n",
       "      <th>2</th>\n",
       "      <td>000229ec398224ef6ca0657da4fc703e</td>\n",
       "      <td>1</td>\n",
       "      <td>c777355d18b72b67abbeef9df44fd0fd</td>\n",
       "      <td>5b51032eddd242adc84c38acab88f23d</td>\n",
       "      <td>2018-01-18 14:48:30</td>\n",
       "      <td>199.00</td>\n",
       "      <td>17.87</td>\n",
       "    </tr>\n",
       "    <tr>\n",
       "      <th>3</th>\n",
       "      <td>00024acbcdf0a6daa1e931b038114c75</td>\n",
       "      <td>1</td>\n",
       "      <td>7634da152a4610f1595efa32f14722fc</td>\n",
       "      <td>9d7a1d34a5052409006425275ba1c2b4</td>\n",
       "      <td>2018-08-15 10:10:18</td>\n",
       "      <td>12.99</td>\n",
       "      <td>12.79</td>\n",
       "    </tr>\n",
       "    <tr>\n",
       "      <th>4</th>\n",
       "      <td>00042b26cf59d7ce69dfabb4e55b4fd9</td>\n",
       "      <td>1</td>\n",
       "      <td>ac6c3623068f30de03045865e4e10089</td>\n",
       "      <td>df560393f3a51e74553ab94004ba5c87</td>\n",
       "      <td>2017-02-13 13:57:51</td>\n",
       "      <td>199.90</td>\n",
       "      <td>18.14</td>\n",
       "    </tr>\n",
       "  </tbody>\n",
       "</table>\n",
       "</div>"
      ],
      "text/plain": [
       "                           order_id  order_item_id  \\\n",
       "0  00010242fe8c5a6d1ba2dd792cb16214              1   \n",
       "1  00018f77f2f0320c557190d7a144bdd3              1   \n",
       "2  000229ec398224ef6ca0657da4fc703e              1   \n",
       "3  00024acbcdf0a6daa1e931b038114c75              1   \n",
       "4  00042b26cf59d7ce69dfabb4e55b4fd9              1   \n",
       "\n",
       "                         product_id                         seller_id  \\\n",
       "0  4244733e06e7ecb4970a6e2683c13e61  48436dade18ac8b2bce089ec2a041202   \n",
       "1  e5f2d52b802189ee658865ca93d83a8f  dd7ddc04e1b6c2c614352b383efe2d36   \n",
       "2  c777355d18b72b67abbeef9df44fd0fd  5b51032eddd242adc84c38acab88f23d   \n",
       "3  7634da152a4610f1595efa32f14722fc  9d7a1d34a5052409006425275ba1c2b4   \n",
       "4  ac6c3623068f30de03045865e4e10089  df560393f3a51e74553ab94004ba5c87   \n",
       "\n",
       "   shipping_limit_date   price  freight_value  \n",
       "0  2017-09-19 09:45:35   58.90          13.29  \n",
       "1  2017-05-03 11:05:13  239.90          19.93  \n",
       "2  2018-01-18 14:48:30  199.00          17.87  \n",
       "3  2018-08-15 10:10:18   12.99          12.79  \n",
       "4  2017-02-13 13:57:51  199.90          18.14  "
      ]
     },
     "execution_count": 26,
     "metadata": {},
     "output_type": "execute_result"
    }
   ],
   "source": [
    "# Посмотрим на содержимое этого датафрейма\n",
    "items.head()"
   ]
  },
  {
   "cell_type": "code",
   "execution_count": 27,
   "metadata": {},
   "outputs": [
    {
     "data": {
      "text/plain": [
       "(112650, 7)"
      ]
     },
     "execution_count": 27,
     "metadata": {},
     "output_type": "execute_result"
    }
   ],
   "source": [
    "# Посмотрим на размер этого датафрейма - 112650 строк и 7 колонок\n",
    "# В этом датафрейме количество строк больше, чем в предыдущем, что связано с тем, что в одном заказе может быть несколько товаров\n",
    "#     и для каждого из товаров здесь отдельная строка\n",
    "items.shape"
   ]
  },
  {
   "cell_type": "code",
   "execution_count": 28,
   "metadata": {},
   "outputs": [
    {
     "data": {
      "text/plain": [
       "order_id                object\n",
       "order_item_id            int64\n",
       "product_id              object\n",
       "seller_id               object\n",
       "shipping_limit_date     object\n",
       "price                  float64\n",
       "freight_value          float64\n",
       "dtype: object"
      ]
     },
     "execution_count": 28,
     "metadata": {},
     "output_type": "execute_result"
    }
   ],
   "source": [
    "# Посмотрим на типы данных в этом датафрейма, здесь даты нужно привести к типу datetime\n",
    "items.dtypes"
   ]
  },
  {
   "cell_type": "code",
   "execution_count": 29,
   "metadata": {},
   "outputs": [
    {
     "data": {
      "text/plain": [
       "order_id                       object\n",
       "order_item_id                   int64\n",
       "product_id                     object\n",
       "seller_id                      object\n",
       "shipping_limit_date    datetime64[ns]\n",
       "price                         float64\n",
       "freight_value                 float64\n",
       "dtype: object"
      ]
     },
     "execution_count": 29,
     "metadata": {},
     "output_type": "execute_result"
    }
   ],
   "source": [
    "# Переведем колонку с датами в формат datetime\n",
    "items['shipping_limit_date'] = pd.to_datetime(items.shipping_limit_date)\n",
    "items.dtypes"
   ]
  },
  {
   "cell_type": "code",
   "execution_count": 30,
   "metadata": {},
   "outputs": [
    {
     "data": {
      "text/plain": [
       "order_id               98666\n",
       "order_item_id             21\n",
       "product_id             32951\n",
       "seller_id               3095\n",
       "shipping_limit_date    93318\n",
       "price                   5968\n",
       "freight_value           6999\n",
       "dtype: int64"
      ]
     },
     "execution_count": 30,
     "metadata": {},
     "output_type": "execute_result"
    }
   ],
   "source": [
    "# Посмотрим на количество уникальных значений в каждой колонке, \n",
    "# Количество уникальных order_id меньше, чем в датафрейме с заказами (не записались данные? или некоторые заказы были без товаров?)\n",
    "# Всего в заказы за все время было добавлено 32951 уникальных товаров от 3095 продавцов\n",
    "items.nunique()"
   ]
  },
  {
   "cell_type": "code",
   "execution_count": 31,
   "metadata": {},
   "outputs": [],
   "source": [
    "# Добавим к датафрейму о товарах данные из других датафреймов\n",
    "data = items.merge(orders_customers, how = 'left', on = 'order_id')\n",
    "# customer_id — позаказный идентификатор пользователя\n",
    "# customer_unique_id — уникальный идентификатор пользователя (аналог номера паспорта)\n",
    "# customer_zip_code_prefix — почтовый индекс пользователя\n",
    "# customer_city — город доставки пользователя\n",
    "# customer_state — штат доставки пользователя\n",
    "# order_status —  статус заказа\n",
    "# order_purchase_timestamp —  время создания заказа\n",
    "# order_approved_at —  время подтверждения оплаты заказа\n",
    "# order_delivered_carrier_date —  время передачи заказа в логистическую службу\n",
    "# order_delivered_customer_date —  время доставки заказа\n",
    "# order_estimated_delivery_date —  обещанная дата доставки\n",
    "# order_id —  уникальный идентификатор заказа (номер чека)\n",
    "# order_item_id —  идентификатор товара внутри одного заказа\n",
    "# product_id —  ид товара (аналог штрихкода)\n",
    "# seller_id — ид производителя товара\n",
    "# shipping_limit_date —  максимальная дата доставки продавцом для передачи заказа партнеру по логистике\n",
    "# price —  цена за единицу товара\n",
    "# freight_value —  вес товара"
   ]
  },
  {
   "cell_type": "code",
   "execution_count": 32,
   "metadata": {},
   "outputs": [
    {
     "data": {
      "text/html": [
       "<div>\n",
       "<style scoped>\n",
       "    .dataframe tbody tr th:only-of-type {\n",
       "        vertical-align: middle;\n",
       "    }\n",
       "\n",
       "    .dataframe tbody tr th {\n",
       "        vertical-align: top;\n",
       "    }\n",
       "\n",
       "    .dataframe thead th {\n",
       "        text-align: right;\n",
       "    }\n",
       "</style>\n",
       "<table border=\"1\" class=\"dataframe\">\n",
       "  <thead>\n",
       "    <tr style=\"text-align: right;\">\n",
       "      <th></th>\n",
       "      <th>order_id</th>\n",
       "      <th>order_item_id</th>\n",
       "      <th>product_id</th>\n",
       "      <th>seller_id</th>\n",
       "      <th>shipping_limit_date</th>\n",
       "      <th>price</th>\n",
       "      <th>freight_value</th>\n",
       "      <th>customer_id</th>\n",
       "      <th>order_status</th>\n",
       "      <th>order_purchase_timestamp</th>\n",
       "      <th>order_approved_at</th>\n",
       "      <th>order_delivered_carrier_date</th>\n",
       "      <th>order_delivered_customer_date</th>\n",
       "      <th>order_estimated_delivery_date</th>\n",
       "      <th>customer_unique_id</th>\n",
       "      <th>customer_zip_code_prefix</th>\n",
       "      <th>customer_city</th>\n",
       "      <th>customer_state</th>\n",
       "    </tr>\n",
       "  </thead>\n",
       "  <tbody>\n",
       "    <tr>\n",
       "      <th>0</th>\n",
       "      <td>00010242fe8c5a6d1ba2dd792cb16214</td>\n",
       "      <td>1</td>\n",
       "      <td>4244733e06e7ecb4970a6e2683c13e61</td>\n",
       "      <td>48436dade18ac8b2bce089ec2a041202</td>\n",
       "      <td>2017-09-19 09:45:35</td>\n",
       "      <td>58.90</td>\n",
       "      <td>13.29</td>\n",
       "      <td>3ce436f183e68e07877b285a838db11a</td>\n",
       "      <td>delivered</td>\n",
       "      <td>2017-09-13 08:59:02</td>\n",
       "      <td>2017-09-13 09:45:35</td>\n",
       "      <td>2017-09-19 18:34:16</td>\n",
       "      <td>2017-09-20 23:43:48</td>\n",
       "      <td>2017-09-29</td>\n",
       "      <td>871766c5855e863f6eccc05f988b23cb</td>\n",
       "      <td>28013</td>\n",
       "      <td>campos dos goytacazes</td>\n",
       "      <td>RJ</td>\n",
       "    </tr>\n",
       "    <tr>\n",
       "      <th>1</th>\n",
       "      <td>00018f77f2f0320c557190d7a144bdd3</td>\n",
       "      <td>1</td>\n",
       "      <td>e5f2d52b802189ee658865ca93d83a8f</td>\n",
       "      <td>dd7ddc04e1b6c2c614352b383efe2d36</td>\n",
       "      <td>2017-05-03 11:05:13</td>\n",
       "      <td>239.90</td>\n",
       "      <td>19.93</td>\n",
       "      <td>f6dd3ec061db4e3987629fe6b26e5cce</td>\n",
       "      <td>delivered</td>\n",
       "      <td>2017-04-26 10:53:06</td>\n",
       "      <td>2017-04-26 11:05:13</td>\n",
       "      <td>2017-05-04 14:35:00</td>\n",
       "      <td>2017-05-12 16:04:24</td>\n",
       "      <td>2017-05-15</td>\n",
       "      <td>eb28e67c4c0b83846050ddfb8a35d051</td>\n",
       "      <td>15775</td>\n",
       "      <td>santa fe do sul</td>\n",
       "      <td>SP</td>\n",
       "    </tr>\n",
       "    <tr>\n",
       "      <th>2</th>\n",
       "      <td>000229ec398224ef6ca0657da4fc703e</td>\n",
       "      <td>1</td>\n",
       "      <td>c777355d18b72b67abbeef9df44fd0fd</td>\n",
       "      <td>5b51032eddd242adc84c38acab88f23d</td>\n",
       "      <td>2018-01-18 14:48:30</td>\n",
       "      <td>199.00</td>\n",
       "      <td>17.87</td>\n",
       "      <td>6489ae5e4333f3693df5ad4372dab6d3</td>\n",
       "      <td>delivered</td>\n",
       "      <td>2018-01-14 14:33:31</td>\n",
       "      <td>2018-01-14 14:48:30</td>\n",
       "      <td>2018-01-16 12:36:48</td>\n",
       "      <td>2018-01-22 13:19:16</td>\n",
       "      <td>2018-02-05</td>\n",
       "      <td>3818d81c6709e39d06b2738a8d3a2474</td>\n",
       "      <td>35661</td>\n",
       "      <td>para de minas</td>\n",
       "      <td>MG</td>\n",
       "    </tr>\n",
       "    <tr>\n",
       "      <th>3</th>\n",
       "      <td>00024acbcdf0a6daa1e931b038114c75</td>\n",
       "      <td>1</td>\n",
       "      <td>7634da152a4610f1595efa32f14722fc</td>\n",
       "      <td>9d7a1d34a5052409006425275ba1c2b4</td>\n",
       "      <td>2018-08-15 10:10:18</td>\n",
       "      <td>12.99</td>\n",
       "      <td>12.79</td>\n",
       "      <td>d4eb9395c8c0431ee92fce09860c5a06</td>\n",
       "      <td>delivered</td>\n",
       "      <td>2018-08-08 10:00:35</td>\n",
       "      <td>2018-08-08 10:10:18</td>\n",
       "      <td>2018-08-10 13:28:00</td>\n",
       "      <td>2018-08-14 13:32:39</td>\n",
       "      <td>2018-08-20</td>\n",
       "      <td>af861d436cfc08b2c2ddefd0ba074622</td>\n",
       "      <td>12952</td>\n",
       "      <td>atibaia</td>\n",
       "      <td>SP</td>\n",
       "    </tr>\n",
       "    <tr>\n",
       "      <th>4</th>\n",
       "      <td>00042b26cf59d7ce69dfabb4e55b4fd9</td>\n",
       "      <td>1</td>\n",
       "      <td>ac6c3623068f30de03045865e4e10089</td>\n",
       "      <td>df560393f3a51e74553ab94004ba5c87</td>\n",
       "      <td>2017-02-13 13:57:51</td>\n",
       "      <td>199.90</td>\n",
       "      <td>18.14</td>\n",
       "      <td>58dbd0b2d70206bf40e62cd34e84d795</td>\n",
       "      <td>delivered</td>\n",
       "      <td>2017-02-04 13:57:51</td>\n",
       "      <td>2017-02-04 14:10:13</td>\n",
       "      <td>2017-02-16 09:46:09</td>\n",
       "      <td>2017-03-01 16:42:31</td>\n",
       "      <td>2017-03-17</td>\n",
       "      <td>64b576fb70d441e8f1b2d7d446e483c5</td>\n",
       "      <td>13226</td>\n",
       "      <td>varzea paulista</td>\n",
       "      <td>SP</td>\n",
       "    </tr>\n",
       "  </tbody>\n",
       "</table>\n",
       "</div>"
      ],
      "text/plain": [
       "                           order_id  order_item_id  \\\n",
       "0  00010242fe8c5a6d1ba2dd792cb16214              1   \n",
       "1  00018f77f2f0320c557190d7a144bdd3              1   \n",
       "2  000229ec398224ef6ca0657da4fc703e              1   \n",
       "3  00024acbcdf0a6daa1e931b038114c75              1   \n",
       "4  00042b26cf59d7ce69dfabb4e55b4fd9              1   \n",
       "\n",
       "                         product_id                         seller_id  \\\n",
       "0  4244733e06e7ecb4970a6e2683c13e61  48436dade18ac8b2bce089ec2a041202   \n",
       "1  e5f2d52b802189ee658865ca93d83a8f  dd7ddc04e1b6c2c614352b383efe2d36   \n",
       "2  c777355d18b72b67abbeef9df44fd0fd  5b51032eddd242adc84c38acab88f23d   \n",
       "3  7634da152a4610f1595efa32f14722fc  9d7a1d34a5052409006425275ba1c2b4   \n",
       "4  ac6c3623068f30de03045865e4e10089  df560393f3a51e74553ab94004ba5c87   \n",
       "\n",
       "  shipping_limit_date   price  freight_value  \\\n",
       "0 2017-09-19 09:45:35   58.90          13.29   \n",
       "1 2017-05-03 11:05:13  239.90          19.93   \n",
       "2 2018-01-18 14:48:30  199.00          17.87   \n",
       "3 2018-08-15 10:10:18   12.99          12.79   \n",
       "4 2017-02-13 13:57:51  199.90          18.14   \n",
       "\n",
       "                        customer_id order_status order_purchase_timestamp  \\\n",
       "0  3ce436f183e68e07877b285a838db11a    delivered      2017-09-13 08:59:02   \n",
       "1  f6dd3ec061db4e3987629fe6b26e5cce    delivered      2017-04-26 10:53:06   \n",
       "2  6489ae5e4333f3693df5ad4372dab6d3    delivered      2018-01-14 14:33:31   \n",
       "3  d4eb9395c8c0431ee92fce09860c5a06    delivered      2018-08-08 10:00:35   \n",
       "4  58dbd0b2d70206bf40e62cd34e84d795    delivered      2017-02-04 13:57:51   \n",
       "\n",
       "    order_approved_at order_delivered_carrier_date  \\\n",
       "0 2017-09-13 09:45:35          2017-09-19 18:34:16   \n",
       "1 2017-04-26 11:05:13          2017-05-04 14:35:00   \n",
       "2 2018-01-14 14:48:30          2018-01-16 12:36:48   \n",
       "3 2018-08-08 10:10:18          2018-08-10 13:28:00   \n",
       "4 2017-02-04 14:10:13          2017-02-16 09:46:09   \n",
       "\n",
       "  order_delivered_customer_date order_estimated_delivery_date  \\\n",
       "0           2017-09-20 23:43:48                    2017-09-29   \n",
       "1           2017-05-12 16:04:24                    2017-05-15   \n",
       "2           2018-01-22 13:19:16                    2018-02-05   \n",
       "3           2018-08-14 13:32:39                    2018-08-20   \n",
       "4           2017-03-01 16:42:31                    2017-03-17   \n",
       "\n",
       "                 customer_unique_id  customer_zip_code_prefix  \\\n",
       "0  871766c5855e863f6eccc05f988b23cb                     28013   \n",
       "1  eb28e67c4c0b83846050ddfb8a35d051                     15775   \n",
       "2  3818d81c6709e39d06b2738a8d3a2474                     35661   \n",
       "3  af861d436cfc08b2c2ddefd0ba074622                     12952   \n",
       "4  64b576fb70d441e8f1b2d7d446e483c5                     13226   \n",
       "\n",
       "           customer_city customer_state  \n",
       "0  campos dos goytacazes             RJ  \n",
       "1        santa fe do sul             SP  \n",
       "2          para de minas             MG  \n",
       "3                atibaia             SP  \n",
       "4        varzea paulista             SP  "
      ]
     },
     "execution_count": 32,
     "metadata": {},
     "output_type": "execute_result"
    }
   ],
   "source": [
    "# Посмотрим на содержимое полного датафрейма\n",
    "data.head()"
   ]
  },
  {
   "cell_type": "code",
   "execution_count": 33,
   "metadata": {},
   "outputs": [
    {
     "data": {
      "text/plain": [
       "(112650, 18)"
      ]
     },
     "execution_count": 33,
     "metadata": {},
     "output_type": "execute_result"
    }
   ],
   "source": [
    "# Посмотрим на размер полного датафрейма\n",
    "data.shape"
   ]
  },
  {
   "cell_type": "code",
   "execution_count": 34,
   "metadata": {},
   "outputs": [
    {
     "data": {
      "text/plain": [
       "order_id                            0\n",
       "order_item_id                       0\n",
       "product_id                          0\n",
       "seller_id                           0\n",
       "shipping_limit_date                 0\n",
       "price                               0\n",
       "freight_value                       0\n",
       "customer_id                         0\n",
       "order_status                        0\n",
       "order_purchase_timestamp            0\n",
       "order_approved_at                  15\n",
       "order_delivered_carrier_date     1194\n",
       "order_delivered_customer_date    2454\n",
       "order_estimated_delivery_date       0\n",
       "customer_unique_id                  0\n",
       "customer_zip_code_prefix            0\n",
       "customer_city                       0\n",
       "customer_state                      0\n",
       "dtype: int64"
      ]
     },
     "execution_count": 34,
     "metadata": {},
     "output_type": "execute_result"
    }
   ],
   "source": [
    "# Посмотрим на количество пропущенных значений в колонках\n",
    "data.isna().sum()"
   ]
  },
  {
   "cell_type": "code",
   "execution_count": 35,
   "metadata": {},
   "outputs": [],
   "source": [
    "# Создадим колонку, в которой будут написаны дни недели, в которые совершена покупка\n",
    "data['order_approved_at_weekday'] = data.order_approved_at.dt.strftime('%A')"
   ]
  },
  {
   "cell_type": "code",
   "execution_count": 36,
   "metadata": {},
   "outputs": [
    {
     "data": {
      "text/html": [
       "<div>\n",
       "<style scoped>\n",
       "    .dataframe tbody tr th:only-of-type {\n",
       "        vertical-align: middle;\n",
       "    }\n",
       "\n",
       "    .dataframe tbody tr th {\n",
       "        vertical-align: top;\n",
       "    }\n",
       "\n",
       "    .dataframe thead th {\n",
       "        text-align: right;\n",
       "    }\n",
       "</style>\n",
       "<table border=\"1\" class=\"dataframe\">\n",
       "  <thead>\n",
       "    <tr style=\"text-align: right;\">\n",
       "      <th></th>\n",
       "      <th>product_id</th>\n",
       "      <th>weekday</th>\n",
       "      <th>quantity_of_sales</th>\n",
       "    </tr>\n",
       "  </thead>\n",
       "  <tbody>\n",
       "    <tr>\n",
       "      <th>0</th>\n",
       "      <td>aca2eb7d00ea1a7b8ebd4e68314663af</td>\n",
       "      <td>Tuesday</td>\n",
       "      <td>119</td>\n",
       "    </tr>\n",
       "    <tr>\n",
       "      <th>1</th>\n",
       "      <td>53b36df67ebb7c41585e8d54d6772e08</td>\n",
       "      <td>Tuesday</td>\n",
       "      <td>105</td>\n",
       "    </tr>\n",
       "    <tr>\n",
       "      <th>2</th>\n",
       "      <td>422879e10f46682990de24d770e7f83d</td>\n",
       "      <td>Tuesday</td>\n",
       "      <td>89</td>\n",
       "    </tr>\n",
       "    <tr>\n",
       "      <th>3</th>\n",
       "      <td>99a4788cb24856965c36a24e339b6058</td>\n",
       "      <td>Tuesday</td>\n",
       "      <td>82</td>\n",
       "    </tr>\n",
       "    <tr>\n",
       "      <th>4</th>\n",
       "      <td>368c6c730842d78016ad823897a372db</td>\n",
       "      <td>Thursday</td>\n",
       "      <td>80</td>\n",
       "    </tr>\n",
       "    <tr>\n",
       "      <th>...</th>\n",
       "      <td>...</td>\n",
       "      <td>...</td>\n",
       "      <td>...</td>\n",
       "    </tr>\n",
       "    <tr>\n",
       "      <th>32721</th>\n",
       "      <td>000d9be29b5207b54e86aa1b1ac54872</td>\n",
       "      <td>Tuesday</td>\n",
       "      <td>1</td>\n",
       "    </tr>\n",
       "    <tr>\n",
       "      <th>32722</th>\n",
       "      <td>000b8f95fcb9e0096488278317764d19</td>\n",
       "      <td>Friday</td>\n",
       "      <td>1</td>\n",
       "    </tr>\n",
       "    <tr>\n",
       "      <th>32723</th>\n",
       "      <td>0009406fd7479715e4bef61dd91f2462</td>\n",
       "      <td>Friday</td>\n",
       "      <td>1</td>\n",
       "    </tr>\n",
       "    <tr>\n",
       "      <th>32724</th>\n",
       "      <td>00088930e925c41fd95ebfe695fd2655</td>\n",
       "      <td>Tuesday</td>\n",
       "      <td>1</td>\n",
       "    </tr>\n",
       "    <tr>\n",
       "      <th>32725</th>\n",
       "      <td>00066f42aeeb9f3007548bb9d3f33c38</td>\n",
       "      <td>Sunday</td>\n",
       "      <td>1</td>\n",
       "    </tr>\n",
       "  </tbody>\n",
       "</table>\n",
       "<p>32726 rows × 3 columns</p>\n",
       "</div>"
      ],
      "text/plain": [
       "                             product_id   weekday  quantity_of_sales\n",
       "0      aca2eb7d00ea1a7b8ebd4e68314663af   Tuesday                119\n",
       "1      53b36df67ebb7c41585e8d54d6772e08   Tuesday                105\n",
       "2      422879e10f46682990de24d770e7f83d   Tuesday                 89\n",
       "3      99a4788cb24856965c36a24e339b6058   Tuesday                 82\n",
       "4      368c6c730842d78016ad823897a372db  Thursday                 80\n",
       "...                                 ...       ...                ...\n",
       "32721  000d9be29b5207b54e86aa1b1ac54872   Tuesday                  1\n",
       "32722  000b8f95fcb9e0096488278317764d19    Friday                  1\n",
       "32723  0009406fd7479715e4bef61dd91f2462    Friday                  1\n",
       "32724  00088930e925c41fd95ebfe695fd2655   Tuesday                  1\n",
       "32725  00066f42aeeb9f3007548bb9d3f33c38    Sunday                  1\n",
       "\n",
       "[32726 rows x 3 columns]"
      ]
     },
     "execution_count": 36,
     "metadata": {},
     "output_type": "execute_result"
    }
   ],
   "source": [
    "# Отсортируем только записи с покупками, и посмотрим, в какой день недели каждый товар сколько покупается.\n",
    "# Отсортируем список по убыванию и удалим повторяющие записи с id товаров\n",
    "# Сохраним данные в sales_by_weekdays\n",
    "sales_by_weekdays = data\\\n",
    "    .query(purchases)\\\n",
    "    .groupby(['product_id','order_approved_at_weekday'], as_index = False)\\\n",
    "    .agg({'order_approved_at':'count'})\\\n",
    "    .sort_values(['order_approved_at', 'product_id'], ascending = False)\\\n",
    "    .drop_duplicates(subset = 'product_id')\\\n",
    "    .reset_index(drop=True)\\\n",
    "    .rename(columns = {'order_approved_at_weekday' : 'weekday', 'order_approved_at' : 'quantity_of_sales'})\n",
    "sales_by_weekdays"
   ]
  },
  {
   "cell_type": "markdown",
   "metadata": {},
   "source": [
    "*По каждому товару мы определили, в какой день недели товар чаще всего покупается. Мы оставили только по 1 дню для каждого товара, потому что в задании было указано \"день\", а не \"дни\"*"
   ]
  },
  {
   "cell_type": "markdown",
   "metadata": {},
   "source": [
    "*4. Сколько у каждого из пользователей в среднем покупок в неделю (по месяцам)? Не стоит забывать, что внутри месяца может быть не целое количество недель. Например, в ноябре 2021 года 4,28 недели. И внутри метрики это нужно учесть*"
   ]
  },
  {
   "cell_type": "code",
   "execution_count": 37,
   "metadata": {},
   "outputs": [],
   "source": [
    "# Создадим в датафрейме с заказами и пользователями новую колонку, в которой будут год и месяц совершения покупки\n",
    "orders_customers['order_approved_at_months'] = orders_customers\\\n",
    "    .query(purchases)\\\n",
    "    .order_approved_at\\\n",
    "    .apply(lambda x : x.strftime('%Y-%m'))"
   ]
  },
  {
   "cell_type": "code",
   "execution_count": 38,
   "metadata": {},
   "outputs": [],
   "source": [
    "# Создадим новый датафрейм purchases_customers_by_months, в который положим количество покупок по месяцам на каждого пользователя\n",
    "purchases_customers_by_months = orders_customers.query(purchases)\\\n",
    "    .groupby(['customer_unique_id', 'order_approved_at_months'], as_index = False)\\\n",
    "    .agg({'order_approved_at' : 'count'})\\\n",
    "    .sort_values('customer_unique_id')\\\n",
    "    .rename(columns = {'order_approved_at' : 'purchases_by_month'})"
   ]
  },
  {
   "cell_type": "code",
   "execution_count": 39,
   "metadata": {},
   "outputs": [],
   "source": [
    "# Создадим новую колонку с количеством недель в месяце\n",
    "purchases_customers_by_months['weeks_at_month'] = purchases_customers_by_months.order_approved_at_months.apply(lambda x : pd.Period(x).days_in_month) / 7"
   ]
  },
  {
   "cell_type": "code",
   "execution_count": 40,
   "metadata": {},
   "outputs": [],
   "source": [
    "# Посчитаем среднее количество покупок в неделю по месяцам на каждого пользователя\n",
    "purchases_customers_by_months['purchases_mean_by_week'] = round(purchases_customers_by_months.purchases_by_month / purchases_customers_by_months.weeks_at_month, 2)"
   ]
  },
  {
   "cell_type": "code",
   "execution_count": 41,
   "metadata": {},
   "outputs": [],
   "source": [
    "# Уберем ненужные теперь колонки\n",
    "purchases_customers_by_months = purchases_customers_by_months.drop(['purchases_by_month', 'weeks_at_month'], axis=1)"
   ]
  },
  {
   "cell_type": "code",
   "execution_count": 42,
   "metadata": {},
   "outputs": [],
   "source": [
    "# Переведем колонку с месяцами в столбцы и заполним пустые значения 0, \n",
    "#     потому что в пропущенные месяцы пользователи не делали покупок - значит среднее количество равно 0\n",
    "# Сохраним данные в purchases_customers_by_months\n",
    "purchases_customers_by_months = purchases_customers_by_months.rename(columns = {'order_approved_at_months' : 'months'})\\\n",
    "    .pivot(columns = 'months', index = 'customer_unique_id')\\\n",
    "    .fillna(0)"
   ]
  },
  {
   "cell_type": "code",
   "execution_count": 43,
   "metadata": {},
   "outputs": [
    {
     "data": {
      "text/html": [
       "<div>\n",
       "<style scoped>\n",
       "    .dataframe tbody tr th:only-of-type {\n",
       "        vertical-align: middle;\n",
       "    }\n",
       "\n",
       "    .dataframe tbody tr th {\n",
       "        vertical-align: top;\n",
       "    }\n",
       "\n",
       "    .dataframe thead tr th {\n",
       "        text-align: left;\n",
       "    }\n",
       "\n",
       "    .dataframe thead tr:last-of-type th {\n",
       "        text-align: right;\n",
       "    }\n",
       "</style>\n",
       "<table border=\"1\" class=\"dataframe\">\n",
       "  <thead>\n",
       "    <tr>\n",
       "      <th></th>\n",
       "      <th colspan=\"21\" halign=\"left\">purchases_mean_by_week</th>\n",
       "    </tr>\n",
       "    <tr>\n",
       "      <th>months</th>\n",
       "      <th>2016-09</th>\n",
       "      <th>2016-10</th>\n",
       "      <th>2016-12</th>\n",
       "      <th>2017-01</th>\n",
       "      <th>2017-02</th>\n",
       "      <th>2017-03</th>\n",
       "      <th>2017-04</th>\n",
       "      <th>2017-05</th>\n",
       "      <th>2017-06</th>\n",
       "      <th>2017-07</th>\n",
       "      <th>...</th>\n",
       "      <th>2017-12</th>\n",
       "      <th>2018-01</th>\n",
       "      <th>2018-02</th>\n",
       "      <th>2018-03</th>\n",
       "      <th>2018-04</th>\n",
       "      <th>2018-05</th>\n",
       "      <th>2018-06</th>\n",
       "      <th>2018-07</th>\n",
       "      <th>2018-08</th>\n",
       "      <th>2018-09</th>\n",
       "    </tr>\n",
       "    <tr>\n",
       "      <th>customer_unique_id</th>\n",
       "      <th></th>\n",
       "      <th></th>\n",
       "      <th></th>\n",
       "      <th></th>\n",
       "      <th></th>\n",
       "      <th></th>\n",
       "      <th></th>\n",
       "      <th></th>\n",
       "      <th></th>\n",
       "      <th></th>\n",
       "      <th></th>\n",
       "      <th></th>\n",
       "      <th></th>\n",
       "      <th></th>\n",
       "      <th></th>\n",
       "      <th></th>\n",
       "      <th></th>\n",
       "      <th></th>\n",
       "      <th></th>\n",
       "      <th></th>\n",
       "      <th></th>\n",
       "    </tr>\n",
       "  </thead>\n",
       "  <tbody>\n",
       "    <tr>\n",
       "      <th>0000366f3b9a7992bf8c76cfdf3221e2</th>\n",
       "      <td>0.0</td>\n",
       "      <td>0.0</td>\n",
       "      <td>0.0</td>\n",
       "      <td>0.0</td>\n",
       "      <td>0.0</td>\n",
       "      <td>0.00</td>\n",
       "      <td>0.0</td>\n",
       "      <td>0.0</td>\n",
       "      <td>0.0</td>\n",
       "      <td>0.0</td>\n",
       "      <td>...</td>\n",
       "      <td>0.0</td>\n",
       "      <td>0.0</td>\n",
       "      <td>0.0</td>\n",
       "      <td>0.0</td>\n",
       "      <td>0.0</td>\n",
       "      <td>0.23</td>\n",
       "      <td>0.0</td>\n",
       "      <td>0.0</td>\n",
       "      <td>0.0</td>\n",
       "      <td>0.0</td>\n",
       "    </tr>\n",
       "    <tr>\n",
       "      <th>0000b849f77a49e4a4ce2b2a4ca5be3f</th>\n",
       "      <td>0.0</td>\n",
       "      <td>0.0</td>\n",
       "      <td>0.0</td>\n",
       "      <td>0.0</td>\n",
       "      <td>0.0</td>\n",
       "      <td>0.00</td>\n",
       "      <td>0.0</td>\n",
       "      <td>0.0</td>\n",
       "      <td>0.0</td>\n",
       "      <td>0.0</td>\n",
       "      <td>...</td>\n",
       "      <td>0.0</td>\n",
       "      <td>0.0</td>\n",
       "      <td>0.0</td>\n",
       "      <td>0.0</td>\n",
       "      <td>0.0</td>\n",
       "      <td>0.23</td>\n",
       "      <td>0.0</td>\n",
       "      <td>0.0</td>\n",
       "      <td>0.0</td>\n",
       "      <td>0.0</td>\n",
       "    </tr>\n",
       "    <tr>\n",
       "      <th>0000f46a3911fa3c0805444483337064</th>\n",
       "      <td>0.0</td>\n",
       "      <td>0.0</td>\n",
       "      <td>0.0</td>\n",
       "      <td>0.0</td>\n",
       "      <td>0.0</td>\n",
       "      <td>0.23</td>\n",
       "      <td>0.0</td>\n",
       "      <td>0.0</td>\n",
       "      <td>0.0</td>\n",
       "      <td>0.0</td>\n",
       "      <td>...</td>\n",
       "      <td>0.0</td>\n",
       "      <td>0.0</td>\n",
       "      <td>0.0</td>\n",
       "      <td>0.0</td>\n",
       "      <td>0.0</td>\n",
       "      <td>0.00</td>\n",
       "      <td>0.0</td>\n",
       "      <td>0.0</td>\n",
       "      <td>0.0</td>\n",
       "      <td>0.0</td>\n",
       "    </tr>\n",
       "    <tr>\n",
       "      <th>0000f6ccb0745a6a4b88665a16c9f078</th>\n",
       "      <td>0.0</td>\n",
       "      <td>0.0</td>\n",
       "      <td>0.0</td>\n",
       "      <td>0.0</td>\n",
       "      <td>0.0</td>\n",
       "      <td>0.00</td>\n",
       "      <td>0.0</td>\n",
       "      <td>0.0</td>\n",
       "      <td>0.0</td>\n",
       "      <td>0.0</td>\n",
       "      <td>...</td>\n",
       "      <td>0.0</td>\n",
       "      <td>0.0</td>\n",
       "      <td>0.0</td>\n",
       "      <td>0.0</td>\n",
       "      <td>0.0</td>\n",
       "      <td>0.00</td>\n",
       "      <td>0.0</td>\n",
       "      <td>0.0</td>\n",
       "      <td>0.0</td>\n",
       "      <td>0.0</td>\n",
       "    </tr>\n",
       "    <tr>\n",
       "      <th>0004aac84e0df4da2b147fca70cf8255</th>\n",
       "      <td>0.0</td>\n",
       "      <td>0.0</td>\n",
       "      <td>0.0</td>\n",
       "      <td>0.0</td>\n",
       "      <td>0.0</td>\n",
       "      <td>0.00</td>\n",
       "      <td>0.0</td>\n",
       "      <td>0.0</td>\n",
       "      <td>0.0</td>\n",
       "      <td>0.0</td>\n",
       "      <td>...</td>\n",
       "      <td>0.0</td>\n",
       "      <td>0.0</td>\n",
       "      <td>0.0</td>\n",
       "      <td>0.0</td>\n",
       "      <td>0.0</td>\n",
       "      <td>0.00</td>\n",
       "      <td>0.0</td>\n",
       "      <td>0.0</td>\n",
       "      <td>0.0</td>\n",
       "      <td>0.0</td>\n",
       "    </tr>\n",
       "  </tbody>\n",
       "</table>\n",
       "<p>5 rows × 24 columns</p>\n",
       "</div>"
      ],
      "text/plain": [
       "                                 purchases_mean_by_week                  \\\n",
       "months                                          2016-09 2016-10 2016-12   \n",
       "customer_unique_id                                                        \n",
       "0000366f3b9a7992bf8c76cfdf3221e2                    0.0     0.0     0.0   \n",
       "0000b849f77a49e4a4ce2b2a4ca5be3f                    0.0     0.0     0.0   \n",
       "0000f46a3911fa3c0805444483337064                    0.0     0.0     0.0   \n",
       "0000f6ccb0745a6a4b88665a16c9f078                    0.0     0.0     0.0   \n",
       "0004aac84e0df4da2b147fca70cf8255                    0.0     0.0     0.0   \n",
       "\n",
       "                                                                          \\\n",
       "months                           2017-01 2017-02 2017-03 2017-04 2017-05   \n",
       "customer_unique_id                                                         \n",
       "0000366f3b9a7992bf8c76cfdf3221e2     0.0     0.0    0.00     0.0     0.0   \n",
       "0000b849f77a49e4a4ce2b2a4ca5be3f     0.0     0.0    0.00     0.0     0.0   \n",
       "0000f46a3911fa3c0805444483337064     0.0     0.0    0.23     0.0     0.0   \n",
       "0000f6ccb0745a6a4b88665a16c9f078     0.0     0.0    0.00     0.0     0.0   \n",
       "0004aac84e0df4da2b147fca70cf8255     0.0     0.0    0.00     0.0     0.0   \n",
       "\n",
       "                                                  ...                          \\\n",
       "months                           2017-06 2017-07  ... 2017-12 2018-01 2018-02   \n",
       "customer_unique_id                                ...                           \n",
       "0000366f3b9a7992bf8c76cfdf3221e2     0.0     0.0  ...     0.0     0.0     0.0   \n",
       "0000b849f77a49e4a4ce2b2a4ca5be3f     0.0     0.0  ...     0.0     0.0     0.0   \n",
       "0000f46a3911fa3c0805444483337064     0.0     0.0  ...     0.0     0.0     0.0   \n",
       "0000f6ccb0745a6a4b88665a16c9f078     0.0     0.0  ...     0.0     0.0     0.0   \n",
       "0004aac84e0df4da2b147fca70cf8255     0.0     0.0  ...     0.0     0.0     0.0   \n",
       "\n",
       "                                                                          \\\n",
       "months                           2018-03 2018-04 2018-05 2018-06 2018-07   \n",
       "customer_unique_id                                                         \n",
       "0000366f3b9a7992bf8c76cfdf3221e2     0.0     0.0    0.23     0.0     0.0   \n",
       "0000b849f77a49e4a4ce2b2a4ca5be3f     0.0     0.0    0.23     0.0     0.0   \n",
       "0000f46a3911fa3c0805444483337064     0.0     0.0    0.00     0.0     0.0   \n",
       "0000f6ccb0745a6a4b88665a16c9f078     0.0     0.0    0.00     0.0     0.0   \n",
       "0004aac84e0df4da2b147fca70cf8255     0.0     0.0    0.00     0.0     0.0   \n",
       "\n",
       "                                                  \n",
       "months                           2018-08 2018-09  \n",
       "customer_unique_id                                \n",
       "0000366f3b9a7992bf8c76cfdf3221e2     0.0     0.0  \n",
       "0000b849f77a49e4a4ce2b2a4ca5be3f     0.0     0.0  \n",
       "0000f46a3911fa3c0805444483337064     0.0     0.0  \n",
       "0000f6ccb0745a6a4b88665a16c9f078     0.0     0.0  \n",
       "0004aac84e0df4da2b147fca70cf8255     0.0     0.0  \n",
       "\n",
       "[5 rows x 24 columns]"
      ]
     },
     "execution_count": 43,
     "metadata": {},
     "output_type": "execute_result"
    }
   ],
   "source": [
    "# Посмотрим на получившийся датафрейм\n",
    "purchases_customers_by_months.head()"
   ]
  },
  {
   "cell_type": "markdown",
   "metadata": {},
   "source": [
    "*Итак, мы посчитали сколько у каждого из пользователей в среднем покупок в неделю (по месяцам)*"
   ]
  },
  {
   "cell_type": "markdown",
   "metadata": {},
   "source": [
    "*5. Используя pandas, проведи когортный анализ пользователей. В период с января по декабрь выяви когорту с самым высоким retention на 3й месяц*"
   ]
  },
  {
   "cell_type": "code",
   "execution_count": 44,
   "metadata": {},
   "outputs": [],
   "source": [
    "# Отфильтруем датафрейм с клиентами и заказами, оставив только записи о покупках за 2017й год + 3 месяца 2018го,\n",
    "#     так как нам нужно провести когортный анализ за период с января по декабрь + 3 месяца\n",
    "orders_customers_purchases = orders_customers.query((purchases) and ('\"2016-12\" < order_approved_at_months < \"2018-04\"'))"
   ]
  },
  {
   "cell_type": "code",
   "execution_count": 45,
   "metadata": {},
   "outputs": [],
   "source": [
    "# Определим, в каком месяце каждый пользователь совершил свою первую покупку\n",
    "first_purchase = orders_customers_purchases\\\n",
    "    .groupby('customer_unique_id', as_index = False)\\\n",
    "    .agg({'order_approved_at_months': 'min'})\\\n",
    "    .rename(columns = ({'order_approved_at_months' : 'first_purchase_at_months'}))"
   ]
  },
  {
   "cell_type": "code",
   "execution_count": 46,
   "metadata": {},
   "outputs": [],
   "source": [
    "# Добавим данные о месяце первой покупки к датафрейму с данными о клиентах и заказах\n",
    "orders_customers_first_purchases = orders_customers_purchases.merge(first_purchase, how = 'inner', on = 'customer_unique_id')"
   ]
  },
  {
   "cell_type": "code",
   "execution_count": 47,
   "metadata": {},
   "outputs": [],
   "source": [
    "# Переведем колонки с датами в формат datetime\n",
    "orders_customers_first_purchases['order_approved_at_months'] = pd.to_datetime(orders_customers_first_purchases.order_approved_at_months)\n",
    "orders_customers_first_purchases['first_purchase_at_months'] = pd.to_datetime(orders_customers_first_purchases.first_purchase_at_months)"
   ]
  },
  {
   "cell_type": "code",
   "execution_count": 48,
   "metadata": {},
   "outputs": [],
   "source": [
    "# Создадим новую колонку со разницей между датой покупки и датой первой покупки\n",
    "orders_customers_first_purchases['diff'] = orders_customers_first_purchases.order_approved_at_months - orders_customers_first_purchases.first_purchase_at_months"
   ]
  },
  {
   "cell_type": "code",
   "execution_count": 49,
   "metadata": {},
   "outputs": [],
   "source": [
    "# Оставим только записи о покупках, совершенных на 3й месяц после первой\n",
    "orders_customers_third_purchases = orders_customers_first_purchases.loc[orders_customers_first_purchases['diff'] <= '92 days'].loc[orders_customers_first_purchases['diff'] >= '89 days']"
   ]
  },
  {
   "cell_type": "code",
   "execution_count": 50,
   "metadata": {},
   "outputs": [
    {
     "data": {
      "text/html": [
       "<div>\n",
       "<style scoped>\n",
       "    .dataframe tbody tr th:only-of-type {\n",
       "        vertical-align: middle;\n",
       "    }\n",
       "\n",
       "    .dataframe tbody tr th {\n",
       "        vertical-align: top;\n",
       "    }\n",
       "\n",
       "    .dataframe thead th {\n",
       "        text-align: right;\n",
       "    }\n",
       "</style>\n",
       "<table border=\"1\" class=\"dataframe\">\n",
       "  <thead>\n",
       "    <tr style=\"text-align: right;\">\n",
       "      <th></th>\n",
       "      <th>first_purchase_at_months</th>\n",
       "      <th>diff</th>\n",
       "      <th>third_month_customer</th>\n",
       "    </tr>\n",
       "  </thead>\n",
       "  <tbody>\n",
       "    <tr>\n",
       "      <th>0</th>\n",
       "      <td>2017-01-01</td>\n",
       "      <td>90 days</td>\n",
       "      <td>1</td>\n",
       "    </tr>\n",
       "    <tr>\n",
       "      <th>1</th>\n",
       "      <td>2017-02-01</td>\n",
       "      <td>89 days</td>\n",
       "      <td>3</td>\n",
       "    </tr>\n",
       "    <tr>\n",
       "      <th>2</th>\n",
       "      <td>2017-03-01</td>\n",
       "      <td>92 days</td>\n",
       "      <td>11</td>\n",
       "    </tr>\n",
       "    <tr>\n",
       "      <th>3</th>\n",
       "      <td>2017-04-01</td>\n",
       "      <td>91 days</td>\n",
       "      <td>5</td>\n",
       "    </tr>\n",
       "    <tr>\n",
       "      <th>4</th>\n",
       "      <td>2017-05-01</td>\n",
       "      <td>92 days</td>\n",
       "      <td>14</td>\n",
       "    </tr>\n",
       "    <tr>\n",
       "      <th>5</th>\n",
       "      <td>2017-06-01</td>\n",
       "      <td>92 days</td>\n",
       "      <td>12</td>\n",
       "    </tr>\n",
       "    <tr>\n",
       "      <th>6</th>\n",
       "      <td>2017-07-01</td>\n",
       "      <td>92 days</td>\n",
       "      <td>7</td>\n",
       "    </tr>\n",
       "    <tr>\n",
       "      <th>7</th>\n",
       "      <td>2017-08-01</td>\n",
       "      <td>92 days</td>\n",
       "      <td>11</td>\n",
       "    </tr>\n",
       "    <tr>\n",
       "      <th>8</th>\n",
       "      <td>2017-09-01</td>\n",
       "      <td>91 days</td>\n",
       "      <td>18</td>\n",
       "    </tr>\n",
       "    <tr>\n",
       "      <th>9</th>\n",
       "      <td>2017-10-01</td>\n",
       "      <td>92 days</td>\n",
       "      <td>4</td>\n",
       "    </tr>\n",
       "    <tr>\n",
       "      <th>10</th>\n",
       "      <td>2017-11-01</td>\n",
       "      <td>92 days</td>\n",
       "      <td>11</td>\n",
       "    </tr>\n",
       "    <tr>\n",
       "      <th>11</th>\n",
       "      <td>2017-12-01</td>\n",
       "      <td>90 days</td>\n",
       "      <td>21</td>\n",
       "    </tr>\n",
       "  </tbody>\n",
       "</table>\n",
       "</div>"
      ],
      "text/plain": [
       "   first_purchase_at_months    diff  third_month_customer\n",
       "0                2017-01-01 90 days                     1\n",
       "1                2017-02-01 89 days                     3\n",
       "2                2017-03-01 92 days                    11\n",
       "3                2017-04-01 91 days                     5\n",
       "4                2017-05-01 92 days                    14\n",
       "5                2017-06-01 92 days                    12\n",
       "6                2017-07-01 92 days                     7\n",
       "7                2017-08-01 92 days                    11\n",
       "8                2017-09-01 91 days                    18\n",
       "9                2017-10-01 92 days                     4\n",
       "10               2017-11-01 92 days                    11\n",
       "11               2017-12-01 90 days                    21"
      ]
     },
     "execution_count": 50,
     "metadata": {},
     "output_type": "execute_result"
    }
   ],
   "source": [
    "# Сформируем когорты с количеством покупок в 3й месяц\n",
    "cohorts = orders_customers_third_purchases\\\n",
    "    .groupby(['first_purchase_at_months','diff'], as_index = False)\\\n",
    "    .agg({'order_approved_at_months':'count'})\\\n",
    "    .rename(columns = ({'order_approved_at_months' : 'third_month_customer'}))\n",
    "cohorts"
   ]
  },
  {
   "cell_type": "code",
   "execution_count": 51,
   "metadata": {},
   "outputs": [],
   "source": [
    "# Сформируем когорты с количеством первых покупок\n",
    "first_month_customers = orders_customers_first_purchases\\\n",
    "    .query(purchases)\\\n",
    "    .groupby('first_purchase_at_months', as_index = False)\\\n",
    "    .agg({'customer_id' : 'count'})\\\n",
    "    .rename(columns = ({'customer_id' : 'first_month_customer'}))"
   ]
  },
  {
   "cell_type": "code",
   "execution_count": 52,
   "metadata": {},
   "outputs": [],
   "source": [
    "# Оставим только записи о первых покупках в 2017 году\n",
    "first_month_customers_2017 = first_month_customers.query('\"2016-12\" < first_purchase_at_months < \"2018-01\"').reset_index(drop = True)"
   ]
  },
  {
   "cell_type": "code",
   "execution_count": 53,
   "metadata": {},
   "outputs": [],
   "source": [
    "# Соединим датафреймы с когортами в один\n",
    "first_third_month_customers = first_month_customers_2017.merge(cohorts, how = 'inner', on = 'first_purchase_at_months')"
   ]
  },
  {
   "cell_type": "code",
   "execution_count": 54,
   "metadata": {},
   "outputs": [],
   "source": [
    "# Посчитаем колонку retention в %\n",
    "first_third_month_customers['retention_percent'] = round(100 * first_third_month_customers.third_month_customer / first_third_month_customers.first_month_customer, 2)"
   ]
  },
  {
   "cell_type": "code",
   "execution_count": 55,
   "metadata": {},
   "outputs": [
    {
     "data": {
      "text/html": [
       "<div>\n",
       "<style scoped>\n",
       "    .dataframe tbody tr th:only-of-type {\n",
       "        vertical-align: middle;\n",
       "    }\n",
       "\n",
       "    .dataframe tbody tr th {\n",
       "        vertical-align: top;\n",
       "    }\n",
       "\n",
       "    .dataframe thead th {\n",
       "        text-align: right;\n",
       "    }\n",
       "</style>\n",
       "<table border=\"1\" class=\"dataframe\">\n",
       "  <thead>\n",
       "    <tr style=\"text-align: right;\">\n",
       "      <th></th>\n",
       "      <th>first_purchase_at_months</th>\n",
       "      <th>first_month_customer</th>\n",
       "      <th>diff</th>\n",
       "      <th>third_month_customer</th>\n",
       "      <th>retention_percent</th>\n",
       "    </tr>\n",
       "  </thead>\n",
       "  <tbody>\n",
       "    <tr>\n",
       "      <th>9</th>\n",
       "      <td>2017-10-01</td>\n",
       "      <td>4488</td>\n",
       "      <td>92 days</td>\n",
       "      <td>4</td>\n",
       "      <td>0.09</td>\n",
       "    </tr>\n",
       "    <tr>\n",
       "      <th>0</th>\n",
       "      <td>2017-01-01</td>\n",
       "      <td>779</td>\n",
       "      <td>90 days</td>\n",
       "      <td>1</td>\n",
       "      <td>0.13</td>\n",
       "    </tr>\n",
       "    <tr>\n",
       "      <th>10</th>\n",
       "      <td>2017-11-01</td>\n",
       "      <td>7249</td>\n",
       "      <td>92 days</td>\n",
       "      <td>11</td>\n",
       "      <td>0.15</td>\n",
       "    </tr>\n",
       "    <tr>\n",
       "      <th>1</th>\n",
       "      <td>2017-02-01</td>\n",
       "      <td>1742</td>\n",
       "      <td>89 days</td>\n",
       "      <td>3</td>\n",
       "      <td>0.17</td>\n",
       "    </tr>\n",
       "    <tr>\n",
       "      <th>6</th>\n",
       "      <td>2017-07-01</td>\n",
       "      <td>3935</td>\n",
       "      <td>92 days</td>\n",
       "      <td>7</td>\n",
       "      <td>0.18</td>\n",
       "    </tr>\n",
       "    <tr>\n",
       "      <th>3</th>\n",
       "      <td>2017-04-01</td>\n",
       "      <td>2405</td>\n",
       "      <td>91 days</td>\n",
       "      <td>5</td>\n",
       "      <td>0.21</td>\n",
       "    </tr>\n",
       "    <tr>\n",
       "      <th>7</th>\n",
       "      <td>2017-08-01</td>\n",
       "      <td>4351</td>\n",
       "      <td>92 days</td>\n",
       "      <td>11</td>\n",
       "      <td>0.25</td>\n",
       "    </tr>\n",
       "    <tr>\n",
       "      <th>4</th>\n",
       "      <td>2017-05-01</td>\n",
       "      <td>3742</td>\n",
       "      <td>92 days</td>\n",
       "      <td>14</td>\n",
       "      <td>0.37</td>\n",
       "    </tr>\n",
       "    <tr>\n",
       "      <th>5</th>\n",
       "      <td>2017-06-01</td>\n",
       "      <td>3255</td>\n",
       "      <td>92 days</td>\n",
       "      <td>12</td>\n",
       "      <td>0.37</td>\n",
       "    </tr>\n",
       "    <tr>\n",
       "      <th>11</th>\n",
       "      <td>2017-12-01</td>\n",
       "      <td>5706</td>\n",
       "      <td>90 days</td>\n",
       "      <td>21</td>\n",
       "      <td>0.37</td>\n",
       "    </tr>\n",
       "    <tr>\n",
       "      <th>2</th>\n",
       "      <td>2017-03-01</td>\n",
       "      <td>2709</td>\n",
       "      <td>92 days</td>\n",
       "      <td>11</td>\n",
       "      <td>0.41</td>\n",
       "    </tr>\n",
       "    <tr>\n",
       "      <th>8</th>\n",
       "      <td>2017-09-01</td>\n",
       "      <td>4277</td>\n",
       "      <td>91 days</td>\n",
       "      <td>18</td>\n",
       "      <td>0.42</td>\n",
       "    </tr>\n",
       "  </tbody>\n",
       "</table>\n",
       "</div>"
      ],
      "text/plain": [
       "   first_purchase_at_months  first_month_customer    diff  \\\n",
       "9                2017-10-01                  4488 92 days   \n",
       "0                2017-01-01                   779 90 days   \n",
       "10               2017-11-01                  7249 92 days   \n",
       "1                2017-02-01                  1742 89 days   \n",
       "6                2017-07-01                  3935 92 days   \n",
       "3                2017-04-01                  2405 91 days   \n",
       "7                2017-08-01                  4351 92 days   \n",
       "4                2017-05-01                  3742 92 days   \n",
       "5                2017-06-01                  3255 92 days   \n",
       "11               2017-12-01                  5706 90 days   \n",
       "2                2017-03-01                  2709 92 days   \n",
       "8                2017-09-01                  4277 91 days   \n",
       "\n",
       "    third_month_customer  retention_percent  \n",
       "9                      4               0.09  \n",
       "0                      1               0.13  \n",
       "10                    11               0.15  \n",
       "1                      3               0.17  \n",
       "6                      7               0.18  \n",
       "3                      5               0.21  \n",
       "7                     11               0.25  \n",
       "4                     14               0.37  \n",
       "5                     12               0.37  \n",
       "11                    21               0.37  \n",
       "2                     11               0.41  \n",
       "8                     18               0.42  "
      ]
     },
     "execution_count": 55,
     "metadata": {},
     "output_type": "execute_result"
    }
   ],
   "source": [
    "# Отсортируем записи по размеру retention\n",
    "first_third_month_customers.sort_values('retention_percent')"
   ]
  },
  {
   "cell_type": "markdown",
   "metadata": {},
   "source": [
    "*Ответ: когорта с самым высоким retention на 3й месяц - пользователи, сделавшие первую покупку в сентябре 2017 года, их retention составляет 0.42% (меньше половины процента)*"
   ]
  },
  {
   "cell_type": "markdown",
   "metadata": {},
   "source": [
    "*6. Используя python, построй RFM-сегментацию пользователей, чтобы качественно оценить свою аудиторию. В кластеризации можешь выбрать следующие метрики: R - время от последней покупки пользователя до текущей даты, F - суммарное количество покупок у пользователя за всё время, M - сумма покупок за всё время. Подробно опиши, как ты создавал кластеры. Для каждого RFM-сегмента построй границы метрик recency, frequency и monetary для интерпретации этих кластеров. Пример такого описания: RFM-сегмент 132 (recency=1, frequency=3, monetary=2) имеет границы метрик recency от 130 до 500 дней, frequency от 2 до 5 заказов в неделю, monetary от 1780 до 3560 рублей в неделю*"
   ]
  },
  {
   "cell_type": "code",
   "execution_count": 56,
   "metadata": {},
   "outputs": [],
   "source": [
    "# выберем только покупки из датафрейма data (в нем записи о клиентах, заказах и товарах), \n",
    "#     сгруппируем данные по клиентам, заказам и дате покупки, посчитаем общую сумму заказа. Положим эти данные в data_grouped\n",
    "data_grouped = data.query(purchases)\\\n",
    "    .groupby(['customer_unique_id', 'order_id', 'order_approved_at'], as_index = False)\\\n",
    "    .agg({'price' : 'sum'})"
   ]
  },
  {
   "cell_type": "code",
   "execution_count": 57,
   "metadata": {},
   "outputs": [],
   "source": [
    "# В столбце order_approved_at оставим только значение даты, без времени\n",
    "data_grouped['order_approved_at'] = data_grouped.order_approved_at.dt.strftime('%Y-%m-%d')"
   ]
  },
  {
   "cell_type": "code",
   "execution_count": 58,
   "metadata": {},
   "outputs": [],
   "source": [
    "# И переведем этот столбец обратно в формат datetime\n",
    "data_grouped['order_approved_at'] = pd.to_datetime(data_grouped.order_approved_at)"
   ]
  },
  {
   "cell_type": "code",
   "execution_count": 59,
   "metadata": {},
   "outputs": [],
   "source": [
    "# Создадим столбец now, в который положим дату на 1 день больше максимальной даты из датафрейма\n",
    "#     (представим, что мы анализируем датафрейм в реальном времени, а не несколько лет спустя)\n",
    "data_grouped['now'] = data_grouped.order_approved_at.max() + dt.timedelta(days=1)"
   ]
  },
  {
   "cell_type": "code",
   "execution_count": 60,
   "metadata": {},
   "outputs": [],
   "source": [
    "# Создадим столбец difference, который показывает разницу между \"сегодняшним\" днем и датой покупки\n",
    "data_grouped['difference'] = data_grouped.now - data_grouped.order_approved_at"
   ]
  },
  {
   "cell_type": "code",
   "execution_count": 61,
   "metadata": {},
   "outputs": [
    {
     "data": {
      "text/html": [
       "<div>\n",
       "<style scoped>\n",
       "    .dataframe tbody tr th:only-of-type {\n",
       "        vertical-align: middle;\n",
       "    }\n",
       "\n",
       "    .dataframe tbody tr th {\n",
       "        vertical-align: top;\n",
       "    }\n",
       "\n",
       "    .dataframe thead th {\n",
       "        text-align: right;\n",
       "    }\n",
       "</style>\n",
       "<table border=\"1\" class=\"dataframe\">\n",
       "  <thead>\n",
       "    <tr style=\"text-align: right;\">\n",
       "      <th></th>\n",
       "      <th>customer_unique_id</th>\n",
       "      <th>order_id</th>\n",
       "      <th>order_approved_at</th>\n",
       "      <th>price</th>\n",
       "      <th>now</th>\n",
       "      <th>difference</th>\n",
       "    </tr>\n",
       "  </thead>\n",
       "  <tbody>\n",
       "    <tr>\n",
       "      <th>0</th>\n",
       "      <td>0000366f3b9a7992bf8c76cfdf3221e2</td>\n",
       "      <td>e22acc9c116caa3f2b7121bbb380d08e</td>\n",
       "      <td>2018-05-10</td>\n",
       "      <td>129.90</td>\n",
       "      <td>2018-09-04</td>\n",
       "      <td>117 days</td>\n",
       "    </tr>\n",
       "    <tr>\n",
       "      <th>1</th>\n",
       "      <td>0000b849f77a49e4a4ce2b2a4ca5be3f</td>\n",
       "      <td>3594e05a005ac4d06a72673270ef9ec9</td>\n",
       "      <td>2018-05-07</td>\n",
       "      <td>18.90</td>\n",
       "      <td>2018-09-04</td>\n",
       "      <td>120 days</td>\n",
       "    </tr>\n",
       "    <tr>\n",
       "      <th>2</th>\n",
       "      <td>0000f46a3911fa3c0805444483337064</td>\n",
       "      <td>b33ec3b699337181488304f362a6b734</td>\n",
       "      <td>2017-03-10</td>\n",
       "      <td>69.00</td>\n",
       "      <td>2018-09-04</td>\n",
       "      <td>543 days</td>\n",
       "    </tr>\n",
       "    <tr>\n",
       "      <th>3</th>\n",
       "      <td>0000f6ccb0745a6a4b88665a16c9f078</td>\n",
       "      <td>41272756ecddd9a9ed0180413cc22fb6</td>\n",
       "      <td>2017-10-12</td>\n",
       "      <td>25.99</td>\n",
       "      <td>2018-09-04</td>\n",
       "      <td>327 days</td>\n",
       "    </tr>\n",
       "    <tr>\n",
       "      <th>4</th>\n",
       "      <td>0004aac84e0df4da2b147fca70cf8255</td>\n",
       "      <td>d957021f1127559cd947b62533f484f7</td>\n",
       "      <td>2017-11-14</td>\n",
       "      <td>180.00</td>\n",
       "      <td>2018-09-04</td>\n",
       "      <td>294 days</td>\n",
       "    </tr>\n",
       "  </tbody>\n",
       "</table>\n",
       "</div>"
      ],
      "text/plain": [
       "                 customer_unique_id                          order_id  \\\n",
       "0  0000366f3b9a7992bf8c76cfdf3221e2  e22acc9c116caa3f2b7121bbb380d08e   \n",
       "1  0000b849f77a49e4a4ce2b2a4ca5be3f  3594e05a005ac4d06a72673270ef9ec9   \n",
       "2  0000f46a3911fa3c0805444483337064  b33ec3b699337181488304f362a6b734   \n",
       "3  0000f6ccb0745a6a4b88665a16c9f078  41272756ecddd9a9ed0180413cc22fb6   \n",
       "4  0004aac84e0df4da2b147fca70cf8255  d957021f1127559cd947b62533f484f7   \n",
       "\n",
       "  order_approved_at   price        now difference  \n",
       "0        2018-05-10  129.90 2018-09-04   117 days  \n",
       "1        2018-05-07   18.90 2018-09-04   120 days  \n",
       "2        2017-03-10   69.00 2018-09-04   543 days  \n",
       "3        2017-10-12   25.99 2018-09-04   327 days  \n",
       "4        2017-11-14  180.00 2018-09-04   294 days  "
      ]
     },
     "execution_count": 61,
     "metadata": {},
     "output_type": "execute_result"
    }
   ],
   "source": [
    "# Посмотрим на получившийся датафрейм\n",
    "data_grouped.head()"
   ]
  },
  {
   "cell_type": "code",
   "execution_count": 62,
   "metadata": {},
   "outputs": [],
   "source": [
    "# Аггрегируем датафрейм, посчитав новые значения:\n",
    "#     Recency - разница между \"сегодняшним\" днем и датой последней покупки пользователя\n",
    "#     Frequency - сколько раз пользователь совершал покупку\n",
    "#     Monetary - общая сумма покупок пользователя\n",
    "# Положим эти данные в новый датафрейм data_rfm\n",
    "data_rfm = data_grouped.groupby('customer_unique_id', as_index = False)\\\n",
    "    .agg({'difference' : 'min', 'order_id' : 'count', 'price' : 'sum'})\\\n",
    "    .rename(columns = ({'difference' : 'Recency_difference_after_last_purchase', 'order_id' : 'Frequency_orders_quantity', 'price' : 'Monetary_total_amount'}))"
   ]
  },
  {
   "cell_type": "code",
   "execution_count": 63,
   "metadata": {},
   "outputs": [
    {
     "data": {
      "text/html": [
       "<div>\n",
       "<style scoped>\n",
       "    .dataframe tbody tr th:only-of-type {\n",
       "        vertical-align: middle;\n",
       "    }\n",
       "\n",
       "    .dataframe tbody tr th {\n",
       "        vertical-align: top;\n",
       "    }\n",
       "\n",
       "    .dataframe thead th {\n",
       "        text-align: right;\n",
       "    }\n",
       "</style>\n",
       "<table border=\"1\" class=\"dataframe\">\n",
       "  <thead>\n",
       "    <tr style=\"text-align: right;\">\n",
       "      <th></th>\n",
       "      <th>customer_unique_id</th>\n",
       "      <th>Recency_difference_after_last_purchase</th>\n",
       "      <th>Frequency_orders_quantity</th>\n",
       "      <th>Monetary_total_amount</th>\n",
       "    </tr>\n",
       "  </thead>\n",
       "  <tbody>\n",
       "    <tr>\n",
       "      <th>0</th>\n",
       "      <td>0000366f3b9a7992bf8c76cfdf3221e2</td>\n",
       "      <td>117 days</td>\n",
       "      <td>1</td>\n",
       "      <td>129.90</td>\n",
       "    </tr>\n",
       "    <tr>\n",
       "      <th>1</th>\n",
       "      <td>0000b849f77a49e4a4ce2b2a4ca5be3f</td>\n",
       "      <td>120 days</td>\n",
       "      <td>1</td>\n",
       "      <td>18.90</td>\n",
       "    </tr>\n",
       "    <tr>\n",
       "      <th>2</th>\n",
       "      <td>0000f46a3911fa3c0805444483337064</td>\n",
       "      <td>543 days</td>\n",
       "      <td>1</td>\n",
       "      <td>69.00</td>\n",
       "    </tr>\n",
       "    <tr>\n",
       "      <th>3</th>\n",
       "      <td>0000f6ccb0745a6a4b88665a16c9f078</td>\n",
       "      <td>327 days</td>\n",
       "      <td>1</td>\n",
       "      <td>25.99</td>\n",
       "    </tr>\n",
       "    <tr>\n",
       "      <th>4</th>\n",
       "      <td>0004aac84e0df4da2b147fca70cf8255</td>\n",
       "      <td>294 days</td>\n",
       "      <td>1</td>\n",
       "      <td>180.00</td>\n",
       "    </tr>\n",
       "  </tbody>\n",
       "</table>\n",
       "</div>"
      ],
      "text/plain": [
       "                 customer_unique_id Recency_difference_after_last_purchase  \\\n",
       "0  0000366f3b9a7992bf8c76cfdf3221e2                               117 days   \n",
       "1  0000b849f77a49e4a4ce2b2a4ca5be3f                               120 days   \n",
       "2  0000f46a3911fa3c0805444483337064                               543 days   \n",
       "3  0000f6ccb0745a6a4b88665a16c9f078                               327 days   \n",
       "4  0004aac84e0df4da2b147fca70cf8255                               294 days   \n",
       "\n",
       "   Frequency_orders_quantity  Monetary_total_amount  \n",
       "0                          1                 129.90  \n",
       "1                          1                  18.90  \n",
       "2                          1                  69.00  \n",
       "3                          1                  25.99  \n",
       "4                          1                 180.00  "
      ]
     },
     "execution_count": 63,
     "metadata": {},
     "output_type": "execute_result"
    }
   ],
   "source": [
    "# Посмотрим на получившийся датафрейм\n",
    "data_rfm.head()"
   ]
  },
  {
   "cell_type": "code",
   "execution_count": 64,
   "metadata": {},
   "outputs": [
    {
     "data": {
      "text/plain": [
       "0.2    98 days\n",
       "0.4   182 days\n",
       "0.6   273 days\n",
       "0.8   389 days\n",
       "Name: Recency_difference_after_last_purchase, dtype: timedelta64[ns]"
      ]
     },
     "execution_count": 64,
     "metadata": {},
     "output_type": "execute_result"
    }
   ],
   "source": [
    "# Для создания сегментов разделим значение Recency на 5 квантилей\n",
    "quintiles_R = data_rfm['Recency_difference_after_last_purchase'].quantile([.2, .4, .6, .8])\n",
    "quintiles_R\n",
    "# Значения Recency делятся на:\n",
    "#     \"менее 3 месяцев\" (немного округлим дни до месяцев, в данном случае это оправданно)\n",
    "#     \"от 3 до 6 месяцев\"\n",
    "#     \"от 6 до 9 месяцев\"\n",
    "#     \"от 9 месяцев до года\"\n",
    "#     \"более года\""
   ]
  },
  {
   "cell_type": "code",
   "execution_count": 65,
   "metadata": {},
   "outputs": [],
   "source": [
    "# Создадим функцию r_score, которая будет присваивать рейтинг от 5 до 1 в зависимости от попадания значения в quintiles_R\n",
    "def r_score(x):\n",
    "    if x <= quintiles_R[.2]:\n",
    "        return 5\n",
    "    elif x <= quintiles_R[.4]:\n",
    "        return 4\n",
    "    elif x <= quintiles_R[.6]:\n",
    "        return 3\n",
    "    elif x <= quintiles_R[.8]:\n",
    "        return 2\n",
    "    else:\n",
    "        return 1"
   ]
  },
  {
   "cell_type": "code",
   "execution_count": 66,
   "metadata": {},
   "outputs": [
    {
     "data": {
      "text/plain": [
       "0.2    1.0\n",
       "0.4    1.0\n",
       "0.6    1.0\n",
       "0.8    1.0\n",
       "Name: Frequency_orders_quantity, dtype: float64"
      ]
     },
     "execution_count": 66,
     "metadata": {},
     "output_type": "execute_result"
    }
   ],
   "source": [
    "# Разделим значение Frequency на 5 квантилей\n",
    "quintiles_F = data_rfm['Frequency_orders_quantity'].quantile([.2, .4, .6, .8])\n",
    "quintiles_F\n",
    "# Мы видим, что все квантили приняли одно значение - \"1\", поэтому такой метод деления на сегменты нам здесь не подходит"
   ]
  },
  {
   "cell_type": "code",
   "execution_count": 67,
   "metadata": {},
   "outputs": [
    {
     "data": {
      "text/plain": [
       "1     92084\n",
       "2      2650\n",
       "3       188\n",
       "4        29\n",
       "5         9\n",
       "6         5\n",
       "7         3\n",
       "16        1\n",
       "9         1\n",
       "Name: Frequency_orders_quantity, dtype: int64"
      ]
     },
     "execution_count": 67,
     "metadata": {},
     "output_type": "execute_result"
    }
   ],
   "source": [
    "# Посмотрим на распределение значений Frequency\n",
    "data_rfm.Frequency_orders_quantity.value_counts()\n",
    "# Абсолютное большинство клиентов (на несколько порядков больше) совершили покупку только 1 раз, \n",
    "#     далее идет значение 2 раза, и остальные, поэтому разделим эти значения на 3 сегмента"
   ]
  },
  {
   "cell_type": "code",
   "execution_count": 68,
   "metadata": {},
   "outputs": [],
   "source": [
    "# Создадим функцию f_score, которая будет присваивать рейтинг от 1 до 3 в зависимости от количества покупок (1, 2, 3 и более)\n",
    "def f_score(x):\n",
    "    if x == 1:\n",
    "        return 1\n",
    "    elif x == 2:\n",
    "        return 2\n",
    "    else:\n",
    "        return 3"
   ]
  },
  {
   "cell_type": "code",
   "execution_count": 69,
   "metadata": {},
   "outputs": [
    {
     "data": {
      "text/plain": [
       "0.2     39.9\n",
       "0.4     69.9\n",
       "0.6    109.9\n",
       "0.8    179.9\n",
       "Name: Monetary_total_amount, dtype: float64"
      ]
     },
     "execution_count": 69,
     "metadata": {},
     "output_type": "execute_result"
    }
   ],
   "source": [
    "# Разделим значение Monetary на 5 квантилей\n",
    "quintiles_M = data_rfm['Monetary_total_amount'].quantile([.2, .4, .6, .8])\n",
    "quintiles_M\n",
    "# Значения Monetary делятся на:\n",
    "#     \"до 40 у.е.\"\n",
    "#     \"от 40 до 70 у.е.\"\n",
    "#     \"от 70 до 110 у.е.\"\n",
    "#     \"от 110 до 180 у.е.\"\n",
    "#     \"более 180 у.е.\""
   ]
  },
  {
   "cell_type": "code",
   "execution_count": 70,
   "metadata": {},
   "outputs": [],
   "source": [
    "# Создадим функцию m_score, которая будет присваивать рейтинг от 1 до 5 в зависимости от попадания значения в quintiles_M\n",
    "def m_score(x):\n",
    "    if x <= quintiles_M[.2]:\n",
    "        return 1\n",
    "    elif x <= quintiles_M[.4]:\n",
    "        return 2\n",
    "    elif x <= quintiles_M[.6]:\n",
    "        return 3\n",
    "    elif x <= quintiles_M[.8]:\n",
    "        return 4\n",
    "    else:\n",
    "        return 5"
   ]
  },
  {
   "cell_type": "code",
   "execution_count": 71,
   "metadata": {},
   "outputs": [],
   "source": [
    "# Создадим новые колонки R, F, M, отражающие значения каждого из 3 параметров (Recency, Frequency, Monetary), применив функции\n",
    "data_rfm['R'] = data_rfm['Recency_difference_after_last_purchase'].apply(lambda x: r_score(x))\n",
    "data_rfm['F'] = data_rfm['Frequency_orders_quantity'].apply(lambda x: f_score(x))\n",
    "data_rfm['M'] = data_rfm['Monetary_total_amount'].apply(lambda x: m_score(x))"
   ]
  },
  {
   "cell_type": "code",
   "execution_count": 72,
   "metadata": {},
   "outputs": [],
   "source": [
    "# Создадим новую колонку RFM_Score, в которой прописан RFM-код каждого покупателя\n",
    "data_rfm['RFM_Score'] = data_rfm['R'].map(str) + data_rfm['F'].map(str) + data_rfm['M'].map(str)"
   ]
  },
  {
   "cell_type": "code",
   "execution_count": 73,
   "metadata": {},
   "outputs": [
    {
     "data": {
      "text/html": [
       "<div>\n",
       "<style scoped>\n",
       "    .dataframe tbody tr th:only-of-type {\n",
       "        vertical-align: middle;\n",
       "    }\n",
       "\n",
       "    .dataframe tbody tr th {\n",
       "        vertical-align: top;\n",
       "    }\n",
       "\n",
       "    .dataframe thead th {\n",
       "        text-align: right;\n",
       "    }\n",
       "</style>\n",
       "<table border=\"1\" class=\"dataframe\">\n",
       "  <thead>\n",
       "    <tr style=\"text-align: right;\">\n",
       "      <th></th>\n",
       "      <th>customer_unique_id</th>\n",
       "      <th>Recency_difference_after_last_purchase</th>\n",
       "      <th>Frequency_orders_quantity</th>\n",
       "      <th>Monetary_total_amount</th>\n",
       "      <th>R</th>\n",
       "      <th>F</th>\n",
       "      <th>M</th>\n",
       "      <th>RFM_Score</th>\n",
       "    </tr>\n",
       "  </thead>\n",
       "  <tbody>\n",
       "    <tr>\n",
       "      <th>0</th>\n",
       "      <td>0000366f3b9a7992bf8c76cfdf3221e2</td>\n",
       "      <td>117 days</td>\n",
       "      <td>1</td>\n",
       "      <td>129.90</td>\n",
       "      <td>4</td>\n",
       "      <td>1</td>\n",
       "      <td>4</td>\n",
       "      <td>414</td>\n",
       "    </tr>\n",
       "    <tr>\n",
       "      <th>1</th>\n",
       "      <td>0000b849f77a49e4a4ce2b2a4ca5be3f</td>\n",
       "      <td>120 days</td>\n",
       "      <td>1</td>\n",
       "      <td>18.90</td>\n",
       "      <td>4</td>\n",
       "      <td>1</td>\n",
       "      <td>1</td>\n",
       "      <td>411</td>\n",
       "    </tr>\n",
       "    <tr>\n",
       "      <th>2</th>\n",
       "      <td>0000f46a3911fa3c0805444483337064</td>\n",
       "      <td>543 days</td>\n",
       "      <td>1</td>\n",
       "      <td>69.00</td>\n",
       "      <td>1</td>\n",
       "      <td>1</td>\n",
       "      <td>2</td>\n",
       "      <td>112</td>\n",
       "    </tr>\n",
       "    <tr>\n",
       "      <th>3</th>\n",
       "      <td>0000f6ccb0745a6a4b88665a16c9f078</td>\n",
       "      <td>327 days</td>\n",
       "      <td>1</td>\n",
       "      <td>25.99</td>\n",
       "      <td>2</td>\n",
       "      <td>1</td>\n",
       "      <td>1</td>\n",
       "      <td>211</td>\n",
       "    </tr>\n",
       "    <tr>\n",
       "      <th>4</th>\n",
       "      <td>0004aac84e0df4da2b147fca70cf8255</td>\n",
       "      <td>294 days</td>\n",
       "      <td>1</td>\n",
       "      <td>180.00</td>\n",
       "      <td>2</td>\n",
       "      <td>1</td>\n",
       "      <td>5</td>\n",
       "      <td>215</td>\n",
       "    </tr>\n",
       "  </tbody>\n",
       "</table>\n",
       "</div>"
      ],
      "text/plain": [
       "                 customer_unique_id Recency_difference_after_last_purchase  \\\n",
       "0  0000366f3b9a7992bf8c76cfdf3221e2                               117 days   \n",
       "1  0000b849f77a49e4a4ce2b2a4ca5be3f                               120 days   \n",
       "2  0000f46a3911fa3c0805444483337064                               543 days   \n",
       "3  0000f6ccb0745a6a4b88665a16c9f078                               327 days   \n",
       "4  0004aac84e0df4da2b147fca70cf8255                               294 days   \n",
       "\n",
       "   Frequency_orders_quantity  Monetary_total_amount  R  F  M RFM_Score  \n",
       "0                          1                 129.90  4  1  4       414  \n",
       "1                          1                  18.90  4  1  1       411  \n",
       "2                          1                  69.00  1  1  2       112  \n",
       "3                          1                  25.99  2  1  1       211  \n",
       "4                          1                 180.00  2  1  5       215  "
      ]
     },
     "execution_count": 73,
     "metadata": {},
     "output_type": "execute_result"
    }
   ],
   "source": [
    "# Посмотрим на получившийся датафрейм\n",
    "data_rfm.head()"
   ]
  },
  {
   "cell_type": "markdown",
   "metadata": {},
   "source": [
    "Сформируем 13 сегментов, на которые разделим пользователей по их RFM-кодам:\n",
    "\n",
    "Название по-русски\t- Описание\t- Название в python\n",
    "\n",
    "1й приоритет по назначению ячеек:\t\t\n",
    "1) Чемпионы\t- Покупали недавно (не позже, чем 3 месяца назад), покупали часто (3 и более раз) и потратили больше всего (180 и более у.е.)\t- Champions\n",
    "\n",
    "2) Потенциальные чемпионы\t- Покупали не слишком давно (не позже, чем полгода назад), покупали относительно часто (2 и более раз) и потратили достаточно много (более 110 у.е.)\t- Potential_Champions\n",
    "\n",
    "3) Перспективные новички\t- Покупали не слишком давно (не позже, чем полгода назад), сделали 1 покупку, потратили средне (от 70 до 180 у.е.)\t- Promising_Newcomers\n",
    "\n",
    "4) Потерянные важные\t- Давно не покупали (более 9 месяцев назад), сделали 2 и более покупок, тратили достаточно много (более 110 у.е.)\t- Lost_important\n",
    "\n",
    "5) Потерянные неважные\t- Давно не покупали (более 9 месяцев назад), сделали покупку 1 раз и потратили немного (менее 70 у.е.)\t- Lost_unimportant\n",
    "\n",
    "2й приоритет по назначению ячеек:\t\n",
    "\n",
    "6) Уверенные середнячки\t- Последний раз покупали от 6 до 9 месяцев назад, сделали покупки 1 или 2 раза, потратили средне (от 40 до 110 у.е.)\t- Confident_middle_peasants\n",
    "\n",
    "7) Просто новички\t- Покупали не слишком давно (не позже, чем полгода назад), сделали 1 покупку, потратили мало (менее 70 у.е.)\t- Just_Newcomers\n",
    "\n",
    "8) Новички-чемпионы\t- Покупали недавно (не позже, чем 3 месяца назад), купили 1 раз и потратили больше всего (180 и более у.е.)\t- Champions_Newcomers\n",
    "\n",
    "9) Потерянные средней важности\t- Давно не покупали (более 6 месяцев назад), сделали покупку 1 или 2 раза, потратили немного (до 180 у.е.)\t- Lost_medium_importance\n",
    "\n",
    "10) Могут потеряться лояльные\t- Покупали от 6 до 9 месяцев назад, покупали 3 и более раз, покупали на любую сумму\t- Loyal_may_be_lost\n",
    "\n",
    "Не попавшие в остальные группы (3й приоритет):\t\n",
    "\n",
    "11) Много платящие\t- Купили на сумму более 180 у.е., \t- Paying_lot\n",
    "\n",
    "12) Часто покупавшие\t- Покупали 3 и более раз\t- Frequent_Buyers\n",
    "\n",
    "13) Недавно купившие\t- Покупали не позже, чем полгода назад\t- Recently_bought\n",
    "\n",
    "Визуализация разбивки по сегментам здесь: https://docs.google.com/spreadsheets/d/1BAzO0Z6AKCPlALxBfFjja-tlyKZehH6fjX-oH6umiAk/edit?usp=sharing"
   ]
  },
  {
   "cell_type": "code",
   "execution_count": 74,
   "metadata": {},
   "outputs": [],
   "source": [
    "# Присвоим названиям сегментов коды \n",
    "Champions = '535'\n",
    "Potential_Champions = ['534', '525', '524', '435', '434', '425', '424']\n",
    "Promising_Newcomers = ['514', '513', '512', '414', '413', '412']\n",
    "Lost_important = ['235', '234', '225', '224', '135', '134', '125', '124']\n",
    "Lost_unimportant = ['212', '211', '112', '111']\n",
    "Confident_middle_peasants = ['324', '323', '322', '314', '313', '312']\n",
    "Just_Newcomers = ['511', '411']\n",
    "Champions_Newcomers = ['515']\n",
    "Lost_medium_importance = ['321', '311', '223', '222', '221', '214', '213', '123', '122', '121', '114', '113']\n",
    "Loyal_may_be_lost = ['335', '334', '332', '331']\n",
    "Paying_lot = ['115', '215', '315', '325', '415']\n",
    "Frequent_Buyers = ['131', '132', '133', '231', '232', '233', '333', '431', '432', '433', '531', '532', '533']\n",
    "Recently_bought = ['421', '422', '423', '521', '522', '523']"
   ]
  },
  {
   "cell_type": "code",
   "execution_count": 75,
   "metadata": {},
   "outputs": [],
   "source": [
    "# Создадим новую колонку Segment с названием сегмента клиента\n",
    "data_rfm['Segment'] = data_rfm['RFM_Score'].replace(Champions, 'Champions')\\\n",
    "    .replace(Potential_Champions, 'Potential_Champions')\\\n",
    "    .replace(Promising_Newcomers, 'Promising_Newcomers')\\\n",
    "    .replace(Lost_important, 'Lost_important')\\\n",
    "    .replace(Lost_unimportant, 'Lost_unimportant')\\\n",
    "    .replace(Confident_middle_peasants, 'Confident_middle_peasants')\\\n",
    "    .replace(Just_Newcomers, 'Just_Newcomers')\\\n",
    "    .replace(Champions_Newcomers, 'Champions_Newcomers')\\\n",
    "    .replace(Lost_medium_importance, 'Lost_medium_importance')\\\n",
    "    .replace(Loyal_may_be_lost, 'Loyal_may_be_lost')\\\n",
    "    .replace(Paying_lot, 'Paying_lot')\\\n",
    "    .replace(Frequent_Buyers, 'Frequent_Buyers')\\\n",
    "    .replace(Recently_bought, 'Recently_bought')\\"
   ]
  },
  {
   "cell_type": "code",
   "execution_count": 76,
   "metadata": {
    "scrolled": true
   },
   "outputs": [
    {
     "data": {
      "text/plain": [
       "Promising_Newcomers          22130\n",
       "Lost_medium_importance       18037\n",
       "Lost_unimportant             16004\n",
       "Paying_lot                   14316\n",
       "Confident_middle_peasants    11344\n",
       "Just_Newcomers                7685\n",
       "Champions_Newcomers           3425\n",
       "Potential_Champions            898\n",
       "Lost_important                 747\n",
       "Recently_bought                272\n",
       "Champions                       55\n",
       "Loyal_may_be_lost               34\n",
       "Frequent_Buyers                 23\n",
       "Name: Segment, dtype: int64"
      ]
     },
     "execution_count": 76,
     "metadata": {},
     "output_type": "execute_result"
    }
   ],
   "source": [
    "# Посмотрим, сколько клиентов представлено в каждом сегменте\n",
    "data_rfm.Segment.value_counts()"
   ]
  },
  {
   "cell_type": "code",
   "execution_count": 77,
   "metadata": {},
   "outputs": [],
   "source": [
    "# Соберем эти данные в датафрейм data_segments для визуализации\n",
    "data_segments = data_rfm.Segment.value_counts()\\\n",
    "    .to_frame()\\\n",
    "    .reset_index()\\\n",
    "    .rename(columns = ({'Segment' : 'quantity_customers', 'index' : 'segment'}))"
   ]
  },
  {
   "cell_type": "code",
   "execution_count": 78,
   "metadata": {},
   "outputs": [
    {
     "data": {
      "text/plain": [
       "<matplotlib.axes._subplots.AxesSubplot at 0x7f1a1398f898>"
      ]
     },
     "execution_count": 78,
     "metadata": {},
     "output_type": "execute_result"
    },
    {
     "data": {
      "image/png": "[encoded data removed]",
      "text/plain": [
       "<Figure size 1080x720 with 1 Axes>"
      ]
     },
     "metadata": {
      "needs_background": "light"
     },
     "output_type": "display_data"
    }
   ],
   "source": [
    "# Визуализируем распределение пользователей по сегментам\n",
    "plt.figure(figsize = (15, 10))\n",
    "sns.barplot(data = data_segments, y = 'segment', x = 'quantity_customers')"
   ]
  },
  {
   "cell_type": "code",
   "execution_count": 79,
   "metadata": {},
   "outputs": [],
   "source": [
    "# Создадим датафрейм с данными о процентном соотношении сегментов\n",
    "data_segments_percent = data_rfm.Segment.value_counts(normalize = True)\\\n",
    "    .to_frame()\\\n",
    "    .reset_index()\\\n",
    "    .rename(columns = ({'Segment' : 'segment_percentage', 'index' : 'segment'}))"
   ]
  },
  {
   "cell_type": "code",
   "execution_count": 80,
   "metadata": {},
   "outputs": [],
   "source": [
    "# Приведем колонку с процентами к более наглядному виду\n",
    "data_segments_percent['segment_percentage'] = round(100 * data_segments_percent.segment_percentage, 2)"
   ]
  },
  {
   "cell_type": "code",
   "execution_count": 81,
   "metadata": {},
   "outputs": [
    {
     "data": {
      "text/html": [
       "<div>\n",
       "<style scoped>\n",
       "    .dataframe tbody tr th:only-of-type {\n",
       "        vertical-align: middle;\n",
       "    }\n",
       "\n",
       "    .dataframe tbody tr th {\n",
       "        vertical-align: top;\n",
       "    }\n",
       "\n",
       "    .dataframe thead th {\n",
       "        text-align: right;\n",
       "    }\n",
       "</style>\n",
       "<table border=\"1\" class=\"dataframe\">\n",
       "  <thead>\n",
       "    <tr style=\"text-align: right;\">\n",
       "      <th></th>\n",
       "      <th>segment</th>\n",
       "      <th>segment_percentage</th>\n",
       "    </tr>\n",
       "  </thead>\n",
       "  <tbody>\n",
       "    <tr>\n",
       "      <th>0</th>\n",
       "      <td>Promising_Newcomers</td>\n",
       "      <td>23.30</td>\n",
       "    </tr>\n",
       "    <tr>\n",
       "      <th>1</th>\n",
       "      <td>Lost_medium_importance</td>\n",
       "      <td>18.99</td>\n",
       "    </tr>\n",
       "    <tr>\n",
       "      <th>2</th>\n",
       "      <td>Lost_unimportant</td>\n",
       "      <td>16.85</td>\n",
       "    </tr>\n",
       "    <tr>\n",
       "      <th>3</th>\n",
       "      <td>Paying_lot</td>\n",
       "      <td>15.07</td>\n",
       "    </tr>\n",
       "    <tr>\n",
       "      <th>4</th>\n",
       "      <td>Confident_middle_peasants</td>\n",
       "      <td>11.94</td>\n",
       "    </tr>\n",
       "    <tr>\n",
       "      <th>5</th>\n",
       "      <td>Just_Newcomers</td>\n",
       "      <td>8.09</td>\n",
       "    </tr>\n",
       "    <tr>\n",
       "      <th>6</th>\n",
       "      <td>Champions_Newcomers</td>\n",
       "      <td>3.61</td>\n",
       "    </tr>\n",
       "    <tr>\n",
       "      <th>7</th>\n",
       "      <td>Potential_Champions</td>\n",
       "      <td>0.95</td>\n",
       "    </tr>\n",
       "    <tr>\n",
       "      <th>8</th>\n",
       "      <td>Lost_important</td>\n",
       "      <td>0.79</td>\n",
       "    </tr>\n",
       "    <tr>\n",
       "      <th>9</th>\n",
       "      <td>Recently_bought</td>\n",
       "      <td>0.29</td>\n",
       "    </tr>\n",
       "    <tr>\n",
       "      <th>10</th>\n",
       "      <td>Champions</td>\n",
       "      <td>0.06</td>\n",
       "    </tr>\n",
       "    <tr>\n",
       "      <th>11</th>\n",
       "      <td>Loyal_may_be_lost</td>\n",
       "      <td>0.04</td>\n",
       "    </tr>\n",
       "    <tr>\n",
       "      <th>12</th>\n",
       "      <td>Frequent_Buyers</td>\n",
       "      <td>0.02</td>\n",
       "    </tr>\n",
       "  </tbody>\n",
       "</table>\n",
       "</div>"
      ],
      "text/plain": [
       "                      segment  segment_percentage\n",
       "0         Promising_Newcomers               23.30\n",
       "1      Lost_medium_importance               18.99\n",
       "2            Lost_unimportant               16.85\n",
       "3                  Paying_lot               15.07\n",
       "4   Confident_middle_peasants               11.94\n",
       "5              Just_Newcomers                8.09\n",
       "6         Champions_Newcomers                3.61\n",
       "7         Potential_Champions                0.95\n",
       "8              Lost_important                0.79\n",
       "9             Recently_bought                0.29\n",
       "10                  Champions                0.06\n",
       "11          Loyal_may_be_lost                0.04\n",
       "12            Frequent_Buyers                0.02"
      ]
     },
     "execution_count": 81,
     "metadata": {},
     "output_type": "execute_result"
    }
   ],
   "source": [
    "# Посмотрим на распределение сегментов по %\n",
    "data_segments_percent"
   ]
  },
  {
   "cell_type": "code",
   "execution_count": 82,
   "metadata": {},
   "outputs": [
    {
     "data": {
      "text/plain": [
       "<matplotlib.axes._subplots.AxesSubplot at 0x7f1a10a21390>"
      ]
     },
     "execution_count": 82,
     "metadata": {},
     "output_type": "execute_result"
    },
    {
     "data": {
      "image/png": "[encoded data removed]",
      "text/plain": [
       "<Figure size 1080x648 with 1 Axes>"
      ]
     },
     "metadata": {
      "needs_background": "light"
     },
     "output_type": "display_data"
    }
   ],
   "source": [
    "# Визуализируем распределение сегментов по процентам\n",
    "plt.figure(figsize = (15, 9))\n",
    "sns.barplot(data = data_segments_percent, y = 'segment', x = 'segment_percentage')"
   ]
  },
  {
   "cell_type": "markdown",
   "metadata": {},
   "source": [
    "*Выводы* (у нас нет бенчмарка по отрасли или исторических данных нашей компании, поэтому в рекомендациях ориентируемся на примерные значения): \n",
    "\n",
    "1) Среди клиентов лидирует сегмент \"Перспективные новички\" (23.3%), кроме того \"Просто новички\" составляют 8.09%, а \"Новички-чемпионы\" - 3.61%. Общая доля новичков 35% - значит у компании есть потенциал к росту в будущем и она неплохо привлекает новых клиентов\n",
    "\n",
    "2) 2е и 3е места занимают сегменты \"Потерянные средней важности\" (18.99%) и \"Потерянные неважные\" (16.85%), вместе они занимают более трети (35,84%) всех клиентов - значит компания теряет много клиентов, нужно принимать меры по уменьшению оттока клиентов (в первую очередь из сегмента \"Могут потеряться лояльные\") и возвращению уже ушедших. Особенно в отношении \"Потерянных важных\" клиентов, чья доля составляет 0.79.\n",
    "\n",
    "3) \"Много платящие\" клиенты составляют более 15% - хороший показатель\n",
    "\n",
    "4) \"Уверенные середнячки\" занимают только около 12 % - они не являются основой компании\n",
    "\n",
    "5) \"Чемпионы\" составляют всего 0.06%, кроме того в ближайшее время на несколько порядков вырасти им не откуда: \"Потенциальные чемпионы\" составляют 0.95%. Но в среднесрочной перспективе в разряд \"Чемпионы\" могут перейти \"Новички-чемпионы\", их доля составляет 3.61%\n",
    "\n",
    "6) Доля \"Часто покупавших\" клиентов составляет всего 0.02%, компании важно провести работу над увеличением количества повторных покупок"
   ]
  },
  {
   "cell_type": "markdown",
   "metadata": {},
   "source": [
    "*Таким образом мы ответили на все вопросы продакт-менеджера Василия*"
   ]
  },
  {
   "cell_type": "code",
   "execution_count": null,
   "metadata": {},
   "outputs": [],
   "source": []
  }
 ],
 "metadata": {
  "kernelspec": {
   "display_name": "Python 3",
   "language": "python",
   "name": "python3"
  },
  "language_info": {
   "codemirror_mode": {
    "name": "ipython",
    "version": 3
   },
   "file_extension": ".py",
   "mimetype": "text/x-python",
   "name": "python",
   "nbconvert_exporter": "python",
   "pygments_lexer": "ipython3",
   "version": "3.7.3"
  }
 },
 "nbformat": 4,
 "nbformat_minor": 4
}
